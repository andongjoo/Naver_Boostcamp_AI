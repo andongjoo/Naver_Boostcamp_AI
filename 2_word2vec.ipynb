{
  "nbformat": 4,
  "nbformat_minor": 0,
  "metadata": {
    "accelerator": "GPU",
    "colab": {
      "name": "word2vec.ipynb",
      "provenance": [],
      "collapsed_sections": []
    },
    "kernelspec": {
      "display_name": "Python 3",
      "name": "python3"
    }
  },
  "cells": [
    {
      "cell_type": "markdown",
      "metadata": {
        "id": "h3FAK0fz1kOr"
      },
      "source": [
        "##**2. Word2Vec**\r\n",
        "1. 주어진 단어들을 word2vec 모델에 들어갈 수 있는 형태로 만든다\r\n",
        "2. CBOW, Skip-gram 모델을 각각 구현한다."
      ]
    },
    {
      "cell_type": "markdown",
      "metadata": {
        "id": "u9FrxTPWIsct"
      },
      "source": [
        "### **필요 패키지 import**"
      ]
    },
    {
      "cell_type": "code",
      "metadata": {
        "id": "QjroCdtwI9Rz",
        "colab": {
          "base_uri": "https://localhost:8080/"
        },
        "outputId": "b4d6ed2e-5ec3-4f5f-f990-dcc8a479fcf9"
      },
      "source": [
        "!pip install konlpy"
      ],
      "execution_count": 1,
      "outputs": [
        {
          "output_type": "stream",
          "text": [
            "Collecting konlpy\n",
            "\u001b[?25l  Downloading https://files.pythonhosted.org/packages/85/0e/f385566fec837c0b83f216b2da65db9997b35dd675e107752005b7d392b1/konlpy-0.5.2-py2.py3-none-any.whl (19.4MB)\n",
            "\u001b[K     |████████████████████████████████| 19.4MB 1.2MB/s \n",
            "\u001b[?25hRequirement already satisfied: lxml>=4.1.0 in /usr/local/lib/python3.6/dist-packages (from konlpy) (4.2.6)\n",
            "Collecting colorama\n",
            "  Downloading https://files.pythonhosted.org/packages/44/98/5b86278fbbf250d239ae0ecb724f8572af1c91f4a11edf4d36a206189440/colorama-0.4.4-py2.py3-none-any.whl\n",
            "Collecting JPype1>=0.7.0\n",
            "\u001b[?25l  Downloading https://files.pythonhosted.org/packages/de/af/93f92b38ec1ff3091cd38982ed19cea2800fefb609b5801c41fc43c0781e/JPype1-1.2.1-cp36-cp36m-manylinux2010_x86_64.whl (457kB)\n",
            "\u001b[K     |████████████████████████████████| 460kB 50.7MB/s \n",
            "\u001b[?25hCollecting beautifulsoup4==4.6.0\n",
            "\u001b[?25l  Downloading https://files.pythonhosted.org/packages/9e/d4/10f46e5cfac773e22707237bfcd51bbffeaf0a576b0a847ec7ab15bd7ace/beautifulsoup4-4.6.0-py3-none-any.whl (86kB)\n",
            "\u001b[K     |████████████████████████████████| 92kB 11.7MB/s \n",
            "\u001b[?25hRequirement already satisfied: numpy>=1.6 in /usr/local/lib/python3.6/dist-packages (from konlpy) (1.19.5)\n",
            "Collecting tweepy>=3.7.0\n",
            "  Downloading https://files.pythonhosted.org/packages/67/c3/6bed87f3b1e5ed2f34bd58bf7978e308c86e255193916be76e5a5ce5dfca/tweepy-3.10.0-py2.py3-none-any.whl\n",
            "Requirement already satisfied: typing-extensions; python_version < \"3.8\" in /usr/local/lib/python3.6/dist-packages (from JPype1>=0.7.0->konlpy) (3.7.4.3)\n",
            "Requirement already satisfied: requests-oauthlib>=0.7.0 in /usr/local/lib/python3.6/dist-packages (from tweepy>=3.7.0->konlpy) (1.3.0)\n",
            "Requirement already satisfied: requests[socks]>=2.11.1 in /usr/local/lib/python3.6/dist-packages (from tweepy>=3.7.0->konlpy) (2.23.0)\n",
            "Requirement already satisfied: six>=1.10.0 in /usr/local/lib/python3.6/dist-packages (from tweepy>=3.7.0->konlpy) (1.15.0)\n",
            "Requirement already satisfied: oauthlib>=3.0.0 in /usr/local/lib/python3.6/dist-packages (from requests-oauthlib>=0.7.0->tweepy>=3.7.0->konlpy) (3.1.0)\n",
            "Requirement already satisfied: certifi>=2017.4.17 in /usr/local/lib/python3.6/dist-packages (from requests[socks]>=2.11.1->tweepy>=3.7.0->konlpy) (2020.12.5)\n",
            "Requirement already satisfied: urllib3!=1.25.0,!=1.25.1,<1.26,>=1.21.1 in /usr/local/lib/python3.6/dist-packages (from requests[socks]>=2.11.1->tweepy>=3.7.0->konlpy) (1.24.3)\n",
            "Requirement already satisfied: chardet<4,>=3.0.2 in /usr/local/lib/python3.6/dist-packages (from requests[socks]>=2.11.1->tweepy>=3.7.0->konlpy) (3.0.4)\n",
            "Requirement already satisfied: idna<3,>=2.5 in /usr/local/lib/python3.6/dist-packages (from requests[socks]>=2.11.1->tweepy>=3.7.0->konlpy) (2.10)\n",
            "Requirement already satisfied: PySocks!=1.5.7,>=1.5.6; extra == \"socks\" in /usr/local/lib/python3.6/dist-packages (from requests[socks]>=2.11.1->tweepy>=3.7.0->konlpy) (1.7.1)\n",
            "Installing collected packages: colorama, JPype1, beautifulsoup4, tweepy, konlpy\n",
            "  Found existing installation: beautifulsoup4 4.6.3\n",
            "    Uninstalling beautifulsoup4-4.6.3:\n",
            "      Successfully uninstalled beautifulsoup4-4.6.3\n",
            "  Found existing installation: tweepy 3.6.0\n",
            "    Uninstalling tweepy-3.6.0:\n",
            "      Successfully uninstalled tweepy-3.6.0\n",
            "Successfully installed JPype1-1.2.1 beautifulsoup4-4.6.0 colorama-0.4.4 konlpy-0.5.2 tweepy-3.10.0\n"
          ],
          "name": "stdout"
        }
      ]
    },
    {
      "cell_type": "code",
      "metadata": {
        "id": "nSP7aXfJIr3i"
      },
      "source": [
        "from tqdm import tqdm\r\n",
        "from konlpy.tag import Okt\r\n",
        "from torch import nn\r\n",
        "from torch.nn import functional as F\r\n",
        "from torch.utils.data import Dataset, DataLoader\r\n",
        "from collections import defaultdict\r\n",
        "\r\n",
        "import torch\r\n",
        "import copy\r\n",
        "import numpy as np"
      ],
      "execution_count": 2,
      "outputs": []
    },
    {
      "cell_type": "markdown",
      "metadata": {
        "id": "qugro74yJASr"
      },
      "source": [
        "### **데이터 전처리**"
      ]
    },
    {
      "cell_type": "code",
      "metadata": {
        "id": "CLZ2f-lRJSus"
      },
      "source": [
        "train_data = [\r\n",
        "  \"정말 맛있습니다. 추천합니다.\",\r\n",
        "  \"기대했던 것보단 별로였네요.\",\r\n",
        "  \"다 좋은데 가격이 너무 비싸서 다시 가고 싶다는 생각이 안 드네요.\",\r\n",
        "  \"완전 최고입니다! 재방문 의사 있습니다.\",\r\n",
        "  \"음식도 서비스도 다 만족스러웠습니다.\",\r\n",
        "  \"위생 상태가 좀 별로였습니다. 좀 더 개선되기를 바랍니다.\",\r\n",
        "  \"맛도 좋았고 직원분들 서비스도 너무 친절했습니다.\",\r\n",
        "  \"기념일에 방문했는데 음식도 분위기도 서비스도 다 좋았습니다.\",\r\n",
        "  \"전반적으로 음식이 너무 짰습니다. 저는 별로였네요.\",\r\n",
        "  \"위생에 조금 더 신경 썼으면 좋겠습니다. 조금 불쾌했습니다.\"       \r\n",
        "]\r\n",
        "\r\n",
        "test_words = [\"음식\", \"맛\", \"서비스\", \"위생\", \"가격\"]"
      ],
      "execution_count": 3,
      "outputs": []
    },
    {
      "cell_type": "code",
      "metadata": {
        "id": "dTjlRzmWMDK_"
      },
      "source": [
        "tokenizer = Okt()"
      ],
      "execution_count": 4,
      "outputs": []
    },
    {
      "cell_type": "code",
      "metadata": {
        "id": "0DTUsX672icp"
      },
      "source": [
        "def make_tokenized(data):\r\n",
        "  tokenized = []\r\n",
        "  for sent in tqdm(data):\r\n",
        "    tokens = tokenizer.morphs(sent, stem=True)\r\n",
        "    tokenized.append(tokens)\r\n",
        "\r\n",
        "  return tokenized"
      ],
      "execution_count": 5,
      "outputs": []
    },
    {
      "cell_type": "code",
      "metadata": {
        "id": "C-z0z6HD2rrX",
        "colab": {
          "base_uri": "https://localhost:8080/"
        },
        "outputId": "b8b5e07e-2232-4317-938f-c6a50920412d"
      },
      "source": [
        "train_tokenized = make_tokenized(train_data)"
      ],
      "execution_count": 6,
      "outputs": [
        {
          "output_type": "stream",
          "text": [
            "100%|██████████| 10/10 [00:05<00:00,  1.82it/s]\n"
          ],
          "name": "stderr"
        }
      ]
    },
    {
      "cell_type": "code",
      "metadata": {
        "id": "51exEpI0Mc3l",
        "colab": {
          "base_uri": "https://localhost:8080/"
        },
        "outputId": "358b97ff-6a4c-49a3-b4b5-e2a4503887ee"
      },
      "source": [
        "word_count = defaultdict(int)\r\n",
        "\r\n",
        "for tokens in tqdm(train_tokenized):\r\n",
        "  for token in tokens:\r\n",
        "    word_count[token] += 1"
      ],
      "execution_count": 7,
      "outputs": [
        {
          "output_type": "stream",
          "text": [
            "100%|██████████| 10/10 [00:00<00:00, 19972.88it/s]\n"
          ],
          "name": "stderr"
        }
      ]
    },
    {
      "cell_type": "code",
      "metadata": {
        "id": "gyvHAMAnMh1D",
        "colab": {
          "base_uri": "https://localhost:8080/"
        },
        "outputId": "d5cc99df-2d44-4f13-a74e-89c288fc8362"
      },
      "source": [
        "word_count = sorted(word_count.items(), key=lambda x: x[1], reverse=True)\r\n",
        "print(list(word_count))"
      ],
      "execution_count": 8,
      "outputs": [
        {
          "output_type": "stream",
          "text": [
            "[('.', 14), ('도', 7), ('이다', 4), ('좋다', 4), ('별로', 3), ('다', 3), ('이', 3), ('너무', 3), ('음식', 3), ('서비스', 3), ('하다', 2), ('방문', 2), ('위생', 2), ('좀', 2), ('더', 2), ('에', 2), ('조금', 2), ('정말', 1), ('맛있다', 1), ('추천', 1), ('기대하다', 1), ('것', 1), ('보단', 1), ('가격', 1), ('비싸다', 1), ('다시', 1), ('가다', 1), ('싶다', 1), ('생각', 1), ('안', 1), ('드네', 1), ('요', 1), ('완전', 1), ('최고', 1), ('!', 1), ('재', 1), ('의사', 1), ('있다', 1), ('만족스럽다', 1), ('상태', 1), ('가', 1), ('개선', 1), ('되다', 1), ('기르다', 1), ('바라다', 1), ('맛', 1), ('직원', 1), ('분들', 1), ('친절하다', 1), ('기념일', 1), ('분위기', 1), ('전반', 1), ('적', 1), ('으로', 1), ('짜다', 1), ('저', 1), ('는', 1), ('신경', 1), ('써다', 1), ('불쾌하다', 1)]\n"
          ],
          "name": "stdout"
        }
      ]
    },
    {
      "cell_type": "code",
      "metadata": {
        "id": "DaK_i3zL2vO3",
        "colab": {
          "base_uri": "https://localhost:8080/"
        },
        "outputId": "4820d5aa-89a9-4e0b-8acc-3ac1f981734d"
      },
      "source": [
        "w2i = {}\r\n",
        "for pair in tqdm(word_count):\r\n",
        "  if pair[0] not in w2i:\r\n",
        "    w2i[pair[0]] = len(w2i)"
      ],
      "execution_count": 9,
      "outputs": [
        {
          "output_type": "stream",
          "text": [
            "100%|██████████| 60/60 [00:00<00:00, 40813.86it/s]\n"
          ],
          "name": "stderr"
        }
      ]
    },
    {
      "cell_type": "code",
      "metadata": {
        "id": "LiGqiEGDL5B_",
        "colab": {
          "base_uri": "https://localhost:8080/"
        },
        "outputId": "fa06c859-5d4e-4f75-a6d8-8443ecbd1d1f"
      },
      "source": [
        "print(train_tokenized)\r\n",
        "print(w2i)"
      ],
      "execution_count": 10,
      "outputs": [
        {
          "output_type": "stream",
          "text": [
            "[['정말', '맛있다', '.', '추천', '하다', '.'], ['기대하다', '것', '보단', '별로', '이다', '.'], ['다', '좋다', '가격', '이', '너무', '비싸다', '다시', '가다', '싶다', '생각', '이', '안', '드네', '요', '.'], ['완전', '최고', '이다', '!', '재', '방문', '의사', '있다', '.'], ['음식', '도', '서비스', '도', '다', '만족스럽다', '.'], ['위생', '상태', '가', '좀', '별로', '이다', '.', '좀', '더', '개선', '되다', '기르다', '바라다', '.'], ['맛', '도', '좋다', '직원', '분들', '서비스', '도', '너무', '친절하다', '.'], ['기념일', '에', '방문', '하다', '음식', '도', '분위기', '도', '서비스', '도', '다', '좋다', '.'], ['전반', '적', '으로', '음식', '이', '너무', '짜다', '.', '저', '는', '별로', '이다', '.'], ['위생', '에', '조금', '더', '신경', '써다', '좋다', '.', '조금', '불쾌하다', '.']]\n",
            "{'.': 0, '도': 1, '이다': 2, '좋다': 3, '별로': 4, '다': 5, '이': 6, '너무': 7, '음식': 8, '서비스': 9, '하다': 10, '방문': 11, '위생': 12, '좀': 13, '더': 14, '에': 15, '조금': 16, '정말': 17, '맛있다': 18, '추천': 19, '기대하다': 20, '것': 21, '보단': 22, '가격': 23, '비싸다': 24, '다시': 25, '가다': 26, '싶다': 27, '생각': 28, '안': 29, '드네': 30, '요': 31, '완전': 32, '최고': 33, '!': 34, '재': 35, '의사': 36, '있다': 37, '만족스럽다': 38, '상태': 39, '가': 40, '개선': 41, '되다': 42, '기르다': 43, '바라다': 44, '맛': 45, '직원': 46, '분들': 47, '친절하다': 48, '기념일': 49, '분위기': 50, '전반': 51, '적': 52, '으로': 53, '짜다': 54, '저': 55, '는': 56, '신경': 57, '써다': 58, '불쾌하다': 59}\n"
          ],
          "name": "stdout"
        }
      ]
    },
    {
      "cell_type": "code",
      "metadata": {
        "id": "gY3OzB7bazYb"
      },
      "source": [
        ""
      ],
      "execution_count": 10,
      "outputs": []
    },
    {
      "cell_type": "code",
      "metadata": {
        "id": "s47ssyVt89t1"
      },
      "source": [
        "class CBOWDataset(Dataset):\r\n",
        "  def __init__(self, train_tokenized, window_size=2):\r\n",
        "    self.x = []\r\n",
        "    self.y = []\r\n",
        "\r\n",
        "    for tokens in tqdm(train_tokenized):\r\n",
        "      token_ids = [w2i[token] for token in tokens]\r\n",
        "      for i, id in enumerate(token_ids):\r\n",
        "        if i-window_size >= 0 and i+window_size < len(token_ids):\r\n",
        "          self.x.append(token_ids[i-window_size:i] + token_ids[i+1:i+window_size+1])\r\n",
        "          self.y.append(id)\r\n",
        "\r\n",
        "    self.x = torch.LongTensor(self.x)  # (전체 데이터 개수, 2 * window_size)\r\n",
        "    self.y = torch.LongTensor(self.y)  # (전체 데이터 개수)\r\n",
        "\r\n",
        "  def __len__(self):\r\n",
        "    return self.x.shape[0]\r\n",
        "\r\n",
        "  def __getitem__(self, idx):\r\n",
        "    return self.x[idx], self.y[idx]"
      ],
      "execution_count": 11,
      "outputs": []
    },
    {
      "cell_type": "code",
      "metadata": {
        "id": "kvInhQ33AMJv"
      },
      "source": [
        "class SkipGramDataset(Dataset):\r\n",
        "  def __init__(self, train_tokenized, window_size=2):\r\n",
        "    self.x = []\r\n",
        "    self.y = []\r\n",
        "\r\n",
        "    for tokens in tqdm(train_tokenized):\r\n",
        "      token_ids = [w2i[token] for token in tokens]\r\n",
        "      for i, id in enumerate(token_ids):\r\n",
        "        if i-window_size >= 0 and i+window_size < len(token_ids):\r\n",
        "          self.y += (token_ids[i-window_size:i] + token_ids[i+1:i+window_size+1])\r\n",
        "          self.x += [id] * 2 * window_size\r\n",
        "\r\n",
        "    self.x = torch.LongTensor(self.x)  # (전체 데이터 개수)\r\n",
        "    self.y = torch.LongTensor(self.y)  # (전체 데이터 개수)\r\n",
        "\r\n",
        "  def __len__(self):\r\n",
        "    return self.x.shape[0]\r\n",
        "\r\n",
        "  def __getitem__(self, idx):\r\n",
        "    return self.x[idx], self.y[idx]"
      ],
      "execution_count": 12,
      "outputs": []
    },
    {
      "cell_type": "code",
      "metadata": {
        "id": "5ep7Hm6oBWyy",
        "colab": {
          "base_uri": "https://localhost:8080/"
        },
        "outputId": "925f1241-c0f0-40f8-8e2e-3863c6692d36"
      },
      "source": [
        "cbow_set = CBOWDataset(train_tokenized)\r\n",
        "skipgram_set = SkipGramDataset(train_tokenized)\r\n",
        "print(list(skipgram_set))"
      ],
      "execution_count": 13,
      "outputs": [
        {
          "output_type": "stream",
          "text": [
            "100%|██████████| 10/10 [00:00<00:00, 3946.47it/s]\n",
            "100%|██████████| 10/10 [00:00<00:00, 6136.51it/s]"
          ],
          "name": "stderr"
        },
        {
          "output_type": "stream",
          "text": [
            "[(tensor(0), tensor(17)), (tensor(0), tensor(18)), (tensor(0), tensor(19)), (tensor(0), tensor(10)), (tensor(19), tensor(18)), (tensor(19), tensor(0)), (tensor(19), tensor(10)), (tensor(19), tensor(0)), (tensor(22), tensor(20)), (tensor(22), tensor(21)), (tensor(22), tensor(4)), (tensor(22), tensor(2)), (tensor(4), tensor(21)), (tensor(4), tensor(22)), (tensor(4), tensor(2)), (tensor(4), tensor(0)), (tensor(23), tensor(5)), (tensor(23), tensor(3)), (tensor(23), tensor(6)), (tensor(23), tensor(7)), (tensor(6), tensor(3)), (tensor(6), tensor(23)), (tensor(6), tensor(7)), (tensor(6), tensor(24)), (tensor(7), tensor(23)), (tensor(7), tensor(6)), (tensor(7), tensor(24)), (tensor(7), tensor(25)), (tensor(24), tensor(6)), (tensor(24), tensor(7)), (tensor(24), tensor(25)), (tensor(24), tensor(26)), (tensor(25), tensor(7)), (tensor(25), tensor(24)), (tensor(25), tensor(26)), (tensor(25), tensor(27)), (tensor(26), tensor(24)), (tensor(26), tensor(25)), (tensor(26), tensor(27)), (tensor(26), tensor(28)), (tensor(27), tensor(25)), (tensor(27), tensor(26)), (tensor(27), tensor(28)), (tensor(27), tensor(6)), (tensor(28), tensor(26)), (tensor(28), tensor(27)), (tensor(28), tensor(6)), (tensor(28), tensor(29)), (tensor(6), tensor(27)), (tensor(6), tensor(28)), (tensor(6), tensor(29)), (tensor(6), tensor(30)), (tensor(29), tensor(28)), (tensor(29), tensor(6)), (tensor(29), tensor(30)), (tensor(29), tensor(31)), (tensor(30), tensor(6)), (tensor(30), tensor(29)), (tensor(30), tensor(31)), (tensor(30), tensor(0)), (tensor(2), tensor(32)), (tensor(2), tensor(33)), (tensor(2), tensor(34)), (tensor(2), tensor(35)), (tensor(34), tensor(33)), (tensor(34), tensor(2)), (tensor(34), tensor(35)), (tensor(34), tensor(11)), (tensor(35), tensor(2)), (tensor(35), tensor(34)), (tensor(35), tensor(11)), (tensor(35), tensor(36)), (tensor(11), tensor(34)), (tensor(11), tensor(35)), (tensor(11), tensor(36)), (tensor(11), tensor(37)), (tensor(36), tensor(35)), (tensor(36), tensor(11)), (tensor(36), tensor(37)), (tensor(36), tensor(0)), (tensor(9), tensor(8)), (tensor(9), tensor(1)), (tensor(9), tensor(1)), (tensor(9), tensor(5)), (tensor(1), tensor(1)), (tensor(1), tensor(9)), (tensor(1), tensor(5)), (tensor(1), tensor(38)), (tensor(5), tensor(9)), (tensor(5), tensor(1)), (tensor(5), tensor(38)), (tensor(5), tensor(0)), (tensor(40), tensor(12)), (tensor(40), tensor(39)), (tensor(40), tensor(13)), (tensor(40), tensor(4)), (tensor(13), tensor(39)), (tensor(13), tensor(40)), (tensor(13), tensor(4)), (tensor(13), tensor(2)), (tensor(4), tensor(40)), (tensor(4), tensor(13)), (tensor(4), tensor(2)), (tensor(4), tensor(0)), (tensor(2), tensor(13)), (tensor(2), tensor(4)), (tensor(2), tensor(0)), (tensor(2), tensor(13)), (tensor(0), tensor(4)), (tensor(0), tensor(2)), (tensor(0), tensor(13)), (tensor(0), tensor(14)), (tensor(13), tensor(2)), (tensor(13), tensor(0)), (tensor(13), tensor(14)), (tensor(13), tensor(41)), (tensor(14), tensor(0)), (tensor(14), tensor(13)), (tensor(14), tensor(41)), (tensor(14), tensor(42)), (tensor(41), tensor(13)), (tensor(41), tensor(14)), (tensor(41), tensor(42)), (tensor(41), tensor(43)), (tensor(42), tensor(14)), (tensor(42), tensor(41)), (tensor(42), tensor(43)), (tensor(42), tensor(44)), (tensor(43), tensor(41)), (tensor(43), tensor(42)), (tensor(43), tensor(44)), (tensor(43), tensor(0)), (tensor(3), tensor(45)), (tensor(3), tensor(1)), (tensor(3), tensor(46)), (tensor(3), tensor(47)), (tensor(46), tensor(1)), (tensor(46), tensor(3)), (tensor(46), tensor(47)), (tensor(46), tensor(9)), (tensor(47), tensor(3)), (tensor(47), tensor(46)), (tensor(47), tensor(9)), (tensor(47), tensor(1)), (tensor(9), tensor(46)), (tensor(9), tensor(47)), (tensor(9), tensor(1)), (tensor(9), tensor(7)), (tensor(1), tensor(47)), (tensor(1), tensor(9)), (tensor(1), tensor(7)), (tensor(1), tensor(48)), (tensor(7), tensor(9)), (tensor(7), tensor(1)), (tensor(7), tensor(48)), (tensor(7), tensor(0)), (tensor(11), tensor(49)), (tensor(11), tensor(15)), (tensor(11), tensor(10)), (tensor(11), tensor(8)), (tensor(10), tensor(15)), (tensor(10), tensor(11)), (tensor(10), tensor(8)), (tensor(10), tensor(1)), (tensor(8), tensor(11)), (tensor(8), tensor(10)), (tensor(8), tensor(1)), (tensor(8), tensor(50)), (tensor(1), tensor(10)), (tensor(1), tensor(8)), (tensor(1), tensor(50)), (tensor(1), tensor(1)), (tensor(50), tensor(8)), (tensor(50), tensor(1)), (tensor(50), tensor(1)), (tensor(50), tensor(9)), (tensor(1), tensor(1)), (tensor(1), tensor(50)), (tensor(1), tensor(9)), (tensor(1), tensor(1)), (tensor(9), tensor(50)), (tensor(9), tensor(1)), (tensor(9), tensor(1)), (tensor(9), tensor(5)), (tensor(1), tensor(1)), (tensor(1), tensor(9)), (tensor(1), tensor(5)), (tensor(1), tensor(3)), (tensor(5), tensor(9)), (tensor(5), tensor(1)), (tensor(5), tensor(3)), (tensor(5), tensor(0)), (tensor(53), tensor(51)), (tensor(53), tensor(52)), (tensor(53), tensor(8)), (tensor(53), tensor(6)), (tensor(8), tensor(52)), (tensor(8), tensor(53)), (tensor(8), tensor(6)), (tensor(8), tensor(7)), (tensor(6), tensor(53)), (tensor(6), tensor(8)), (tensor(6), tensor(7)), (tensor(6), tensor(54)), (tensor(7), tensor(8)), (tensor(7), tensor(6)), (tensor(7), tensor(54)), (tensor(7), tensor(0)), (tensor(54), tensor(6)), (tensor(54), tensor(7)), (tensor(54), tensor(0)), (tensor(54), tensor(55)), (tensor(0), tensor(7)), (tensor(0), tensor(54)), (tensor(0), tensor(55)), (tensor(0), tensor(56)), (tensor(55), tensor(54)), (tensor(55), tensor(0)), (tensor(55), tensor(56)), (tensor(55), tensor(4)), (tensor(56), tensor(0)), (tensor(56), tensor(55)), (tensor(56), tensor(4)), (tensor(56), tensor(2)), (tensor(4), tensor(55)), (tensor(4), tensor(56)), (tensor(4), tensor(2)), (tensor(4), tensor(0)), (tensor(16), tensor(12)), (tensor(16), tensor(15)), (tensor(16), tensor(14)), (tensor(16), tensor(57)), (tensor(14), tensor(15)), (tensor(14), tensor(16)), (tensor(14), tensor(57)), (tensor(14), tensor(58)), (tensor(57), tensor(16)), (tensor(57), tensor(14)), (tensor(57), tensor(58)), (tensor(57), tensor(3)), (tensor(58), tensor(14)), (tensor(58), tensor(57)), (tensor(58), tensor(3)), (tensor(58), tensor(0)), (tensor(3), tensor(57)), (tensor(3), tensor(58)), (tensor(3), tensor(0)), (tensor(3), tensor(16)), (tensor(0), tensor(58)), (tensor(0), tensor(3)), (tensor(0), tensor(16)), (tensor(0), tensor(59)), (tensor(16), tensor(3)), (tensor(16), tensor(0)), (tensor(16), tensor(59)), (tensor(16), tensor(0))]\n"
          ],
          "name": "stdout"
        },
        {
          "output_type": "stream",
          "text": [
            "\n"
          ],
          "name": "stderr"
        }
      ]
    },
    {
      "cell_type": "markdown",
      "metadata": {
        "id": "1QSo73PoRyd9"
      },
      "source": [
        "### **모델 Class 구현**"
      ]
    },
    {
      "cell_type": "markdown",
      "metadata": {
        "id": "jnnk44R6R28x"
      },
      "source": [
        "\r\n",
        "\r\n",
        "\r\n",
        "*   `self.embedding`: `vocab_size` 크기의 one-hot vector를 특정 크기의 `dim` 차원으로 embedding 시키는 layer.\r\n",
        "*   `self.linear`: 변환된 embedding vector를 다시 원래 `vocab_size`로 바꾸는 layer.\r\n"
      ]
    },
    {
      "cell_type": "code",
      "metadata": {
        "id": "b_HP1ISq5CWv"
      },
      "source": [
        "class CBOW(nn.Module):\r\n",
        "  def __init__(self, vocab_size, dim):\r\n",
        "    super(CBOW, self).__init__()\r\n",
        "    self.embedding = nn.Embedding(vocab_size, dim, sparse=True)\r\n",
        "    self.linear = nn.Linear(dim, vocab_size)\r\n",
        "\r\n",
        "  # B: batch size, W: window size, d_w: word embedding size, V: vocab size\r\n",
        "  def forward(self, x):  # x: (B, 2W)\r\n",
        "    embeddings = self.embedding(x)  # (B, 2W, d_w)\r\n",
        "    embeddings = torch.sum(embeddings, dim=1)  # (B, d_w)\r\n",
        "    output = self.linear(embeddings)  # (B, V)\r\n",
        "    return output"
      ],
      "execution_count": 14,
      "outputs": []
    },
    {
      "cell_type": "code",
      "metadata": {
        "id": "yQAUApww68MJ"
      },
      "source": [
        "class SkipGram(nn.Module):\r\n",
        "  def __init__(self, vocab_size, dim):\r\n",
        "    super(SkipGram, self).__init__()\r\n",
        "    self.embedding = nn.Embedding(vocab_size, dim, sparse=True)\r\n",
        "    self.linear = nn.Linear(dim, vocab_size)\r\n",
        "\r\n",
        "  # B: batch size, W: window size, d_w: word embedding size, V: vocab size\r\n",
        "  def forward(self, x): # x: (B)\r\n",
        "    embeddings = self.embedding(x)  # (B, d_w)\r\n",
        "    output = self.linear(embeddings)  # (B, V)\r\n",
        "    return output"
      ],
      "execution_count": 15,
      "outputs": []
    },
    {
      "cell_type": "code",
      "metadata": {
        "id": "8vWUXEi8WeM-"
      },
      "source": [
        "cbow = CBOW(vocab_size=len(w2i), dim=256)\r\n",
        "skipgram = SkipGram(vocab_size=len(w2i), dim=256)"
      ],
      "execution_count": 16,
      "outputs": []
    },
    {
      "cell_type": "markdown",
      "metadata": {
        "id": "xxP7qdtNWil1"
      },
      "source": [
        "### **모델 학습**"
      ]
    },
    {
      "cell_type": "code",
      "metadata": {
        "id": "ygVdz5rSBeNu"
      },
      "source": [
        "batch_size=4\r\n",
        "learning_rate = 5e-4\r\n",
        "num_epochs = 5\r\n",
        "device = torch.device('cuda') if torch.cuda.is_available() else torch.device('cpu')\r\n",
        "\r\n",
        "cbow_loader = DataLoader(cbow_set, batch_size=batch_size)\r\n",
        "skipgram_loader = DataLoader(skipgram_set, batch_size=batch_size)"
      ],
      "execution_count": 17,
      "outputs": []
    },
    {
      "cell_type": "code",
      "metadata": {
        "id": "-d95qR7oC822",
        "colab": {
          "base_uri": "https://localhost:8080/"
        },
        "outputId": "bbd07b5a-a686-46c2-c2ca-4d0ad1584bda"
      },
      "source": [
        "cbow.train()\r\n",
        "cbow = cbow.to(device)\r\n",
        "optim = torch.optim.SGD(cbow.parameters(), lr=learning_rate)\r\n",
        "loss_function = nn.CrossEntropyLoss()\r\n",
        "\r\n",
        "for e in range(1, num_epochs+1):\r\n",
        "  print(\"#\" * 50)\r\n",
        "  print(f\"Epoch: {e}\")\r\n",
        "  for batch in tqdm(cbow_loader):\r\n",
        "    x, y = batch\r\n",
        "    x, y = x.to(device), y.to(device) # (B, W), (B)\r\n",
        "    output = cbow(x)  # (B, V)\r\n",
        " \r\n",
        "    optim.zero_grad()\r\n",
        "    loss = loss_function(output, y)\r\n",
        "    loss.backward()\r\n",
        "    optim.step()\r\n",
        "\r\n",
        "    print(f\"Train loss: {loss.item()}\")\r\n",
        "\r\n",
        "print(\"Finished.\")"
      ],
      "execution_count": 18,
      "outputs": [
        {
          "output_type": "stream",
          "text": [
            "  6%|▋         | 1/16 [00:00<00:02,  5.25it/s]"
          ],
          "name": "stderr"
        },
        {
          "output_type": "stream",
          "text": [
            "##################################################\n",
            "Epoch: 1\n",
            "Train loss: 4.777403831481934\n",
            "Train loss: 3.4267449378967285\n",
            "Train loss: 5.699966907501221\n",
            "Train loss: 6.134458541870117\n",
            "Train loss: 5.373473167419434\n"
          ],
          "name": "stdout"
        },
        {
          "output_type": "stream",
          "text": [
            "100%|██████████| 16/16 [00:00<00:00, 73.89it/s]\n",
            "100%|██████████| 16/16 [00:00<00:00, 674.59it/s]\n",
            "100%|██████████| 16/16 [00:00<00:00, 618.01it/s]\n",
            "100%|██████████| 16/16 [00:00<00:00, 610.12it/s]\n",
            "100%|██████████| 16/16 [00:00<00:00, 686.81it/s]"
          ],
          "name": "stderr"
        },
        {
          "output_type": "stream",
          "text": [
            "Train loss: 4.801996231079102\n",
            "Train loss: 5.780697822570801\n",
            "Train loss: 4.974893569946289\n",
            "Train loss: 4.040414333343506\n",
            "Train loss: 4.373447418212891\n",
            "Train loss: 4.411188125610352\n",
            "Train loss: 4.812112808227539\n",
            "Train loss: 5.001648426055908\n",
            "Train loss: 4.971104621887207\n",
            "Train loss: 5.1489996910095215\n",
            "Train loss: 4.694040298461914\n",
            "##################################################\n",
            "Epoch: 2\n",
            "Train loss: 4.59750509262085\n",
            "Train loss: 3.3064732551574707\n",
            "Train loss: 5.552374839782715\n",
            "Train loss: 5.982983112335205\n",
            "Train loss: 5.233875274658203\n",
            "Train loss: 4.522367000579834\n",
            "Train loss: 5.582163333892822\n",
            "Train loss: 4.844361782073975\n",
            "Train loss: 3.9280333518981934\n",
            "Train loss: 4.188053607940674\n",
            "Train loss: 4.242216110229492\n",
            "Train loss: 4.422765731811523\n",
            "Train loss: 4.859151363372803\n",
            "Train loss: 4.833887577056885\n",
            "Train loss: 4.993827819824219\n",
            "Train loss: 4.563860893249512\n",
            "##################################################\n",
            "Epoch: 3\n",
            "Train loss: 4.4205756187438965\n",
            "Train loss: 3.1889092922210693\n",
            "Train loss: 5.406403064727783\n",
            "Train loss: 5.832821369171143\n",
            "Train loss: 5.096692085266113\n",
            "Train loss: 4.252598762512207\n",
            "Train loss: 5.386318206787109\n",
            "Train loss: 4.715973854064941\n",
            "Train loss: 3.8180723190307617\n",
            "Train loss: 4.008917808532715\n",
            "Train loss: 4.082099437713623\n",
            "Train loss: 4.0494489669799805\n",
            "Train loss: 4.718742370605469\n",
            "Train loss: 4.699158191680908\n",
            "Train loss: 4.840587139129639\n",
            "Train loss: 4.437228679656982\n",
            "##################################################\n",
            "Epoch: 4\n",
            "Train loss: 4.246734619140625\n",
            "Train loss: 3.074063777923584\n",
            "Train loss: 5.262051582336426\n",
            "Train loss: 5.683969974517822\n",
            "Train loss: 4.961788177490234\n",
            "Train loss: 3.994286298751831\n",
            "Train loss: 5.193279266357422\n",
            "Train loss: 4.589771270751953\n",
            "Train loss: 3.7107677459716797\n",
            "Train loss: 3.8367908000946045\n",
            "Train loss: 3.9312679767608643\n",
            "Train loss: 3.695067882537842\n",
            "Train loss: 4.580440044403076\n",
            "Train loss: 4.56693172454834\n",
            "Train loss: 4.689355373382568\n",
            "Train loss: 4.314122676849365\n",
            "##################################################\n",
            "Epoch: 5\n",
            "Train loss: 4.07613468170166\n",
            "Train loss: 2.961949110031128\n",
            "Train loss: 5.119325160980225\n",
            "Train loss: 5.5364274978637695\n",
            "Train loss: 4.829047679901123\n",
            "Train loss: 3.749281406402588\n",
            "Train loss: 5.003188133239746\n",
            "Train loss: 4.465800762176514\n",
            "Train loss: 3.6063461303710938\n",
            "Train loss: 3.6724777221679688\n",
            "Train loss: 3.790239095687866\n",
            "Train loss: 3.3627567291259766\n",
            "Train loss: 4.444257736206055\n",
            "Train loss: 4.437225341796875\n",
            "Train loss: 4.540223598480225\n",
            "Train loss: 4.194521427154541\n",
            "Finished.\n"
          ],
          "name": "stdout"
        },
        {
          "output_type": "stream",
          "text": [
            "\n"
          ],
          "name": "stderr"
        }
      ]
    },
    {
      "cell_type": "code",
      "metadata": {
        "id": "jJxGEusqFV5r",
        "colab": {
          "base_uri": "https://localhost:8080/"
        },
        "outputId": "9e858a7a-d42c-4f01-e755-4ac1423fe9f0"
      },
      "source": [
        "skipgram.train()\r\n",
        "skipgram = skipgram.to(device)\r\n",
        "optim = torch.optim.SGD(skipgram.parameters(), lr=learning_rate)\r\n",
        "loss_function = nn.CrossEntropyLoss()\r\n",
        "\r\n",
        "for e in range(1, num_epochs+1):\r\n",
        "  print(\"#\" * 50)\r\n",
        "  print(f\"Epoch: {e}\")\r\n",
        "  for batch in tqdm(skipgram_loader):\r\n",
        "    x, y = batch\r\n",
        "    x, y = x.to(device), y.to(device) # (B, W), (B)\r\n",
        "    output = skipgram(x)  # (B, V)\r\n",
        "\r\n",
        "    optim.zero_grad()\r\n",
        "    loss = loss_function(output, y)\r\n",
        "    loss.backward()\r\n",
        "    optim.step()\r\n",
        "\r\n",
        "    print(f\"Train loss: {loss.item()}\")\r\n",
        "\r\n",
        "print(\"Finished.\")"
      ],
      "execution_count": 19,
      "outputs": [
        {
          "output_type": "stream",
          "text": [
            "\r  0%|          | 0/64 [00:00<?, ?it/s]"
          ],
          "name": "stderr"
        },
        {
          "output_type": "stream",
          "text": [
            "##################################################\n",
            "Epoch: 1\n",
            "Train loss: 4.416653633117676\n",
            "Train loss: 4.013772010803223\n",
            "Train loss: 4.249093055725098\n",
            "Train loss: 4.1817946434021\n",
            "Train loss: 4.208499908447266\n",
            "Train loss: 4.35623836517334\n",
            "Train loss: 4.150032997131348\n",
            "Train loss: 4.082703590393066\n",
            "Train loss: 4.06230354309082\n",
            "Train loss: 4.322841644287109\n",
            "Train loss: 4.178714275360107\n",
            "Train loss: 4.357064723968506\n",
            "Train loss: 4.002449989318848\n",
            "Train loss: 4.264979839324951\n",
            "Train loss: 3.8697385787963867\n",
            "Train loss: 4.212023735046387\n",
            "Train loss: 4.058620929718018\n",
            "Train loss: 4.153619766235352\n",
            "Train loss: 4.097601413726807\n",
            "Train loss: 4.269953727722168\n",
            "Train loss: 3.69059681892395\n",
            "Train loss: 4.287111282348633\n",
            "Train loss: 4.496732711791992\n",
            "Train loss: 3.958530902862549\n",
            "Train loss: 4.1485185623168945\n",
            "Train loss: 3.9942409992218018\n",
            "Train loss: 4.996145248413086\n",
            "Train loss: 4.622960567474365\n",
            "Train loss: 4.168692588806152\n",
            "Train loss: 4.0700273513793945\n",
            "Train loss: 4.173990249633789\n",
            "Train loss: 4.142471790313721\n",
            "Train loss: 3.762960910797119\n",
            "Train loss: 3.818817615509033\n",
            "Train loss: 3.8443233966827393\n",
            "Train loss: 4.300114154815674\n",
            "Train loss: 4.312039375305176\n",
            "Train loss: 4.280274391174316\n",
            "Train loss: 3.938978672027588\n",
            "Train loss: 4.292968273162842\n"
          ],
          "name": "stdout"
        },
        {
          "output_type": "stream",
          "text": [
            "100%|██████████| 64/64 [00:00<00:00, 737.54it/s]\n",
            "100%|██████████| 64/64 [00:00<00:00, 787.45it/s]\n",
            "  0%|          | 0/64 [00:00<?, ?it/s]"
          ],
          "name": "stderr"
        },
        {
          "output_type": "stream",
          "text": [
            "Train loss: 3.8217015266418457\n",
            "Train loss: 4.264951229095459\n",
            "Train loss: 4.341148853302002\n",
            "Train loss: 4.223560333251953\n",
            "Train loss: 4.4063520431518555\n",
            "Train loss: 3.756385087966919\n",
            "Train loss: 4.123242378234863\n",
            "Train loss: 4.69522762298584\n",
            "Train loss: 4.038976192474365\n",
            "Train loss: 4.231125354766846\n",
            "Train loss: 4.075807571411133\n",
            "Train loss: 4.414292335510254\n",
            "Train loss: 4.181360721588135\n",
            "Train loss: 4.457058429718018\n",
            "Train loss: 4.227865695953369\n",
            "Train loss: 4.317999362945557\n",
            "Train loss: 4.011598587036133\n",
            "Train loss: 3.9067890644073486\n",
            "Train loss: 4.626102447509766\n",
            "Train loss: 4.0340352058410645\n",
            "Train loss: 3.934690475463867\n",
            "Train loss: 3.9926276206970215\n",
            "Train loss: 4.305391788482666\n",
            "Train loss: 4.349721908569336\n",
            "##################################################\n",
            "Epoch: 2\n",
            "Train loss: 4.384714126586914\n",
            "Train loss: 3.9742300510406494\n",
            "Train loss: 4.215574741363525\n",
            "Train loss: 4.132747650146484\n",
            "Train loss: 4.181686878204346\n",
            "Train loss: 4.330953121185303\n",
            "Train loss: 4.114665985107422\n",
            "Train loss: 4.057107925415039\n",
            "Train loss: 4.031374931335449\n",
            "Train loss: 4.287820816040039\n",
            "Train loss: 4.150285720825195\n",
            "Train loss: 4.323899269104004\n",
            "Train loss: 3.983710765838623\n",
            "Train loss: 4.238438606262207\n",
            "Train loss: 3.8455967903137207\n",
            "Train loss: 4.180562973022461\n",
            "Train loss: 4.029688358306885\n",
            "Train loss: 4.123549461364746\n",
            "Train loss: 4.069255828857422\n",
            "Train loss: 4.235678672790527\n",
            "Train loss: 3.59061861038208\n",
            "Train loss: 4.206019878387451\n",
            "Train loss: 4.4570183753967285\n",
            "Train loss: 3.929955005645752\n",
            "Train loss: 4.109691619873047\n",
            "Train loss: 3.948093891143799\n",
            "Train loss: 4.946006774902344\n",
            "Train loss: 4.593082427978516\n",
            "Train loss: 4.1318864822387695\n",
            "Train loss: 4.034283638000488\n",
            "Train loss: 4.140405654907227\n",
            "Train loss: 4.105069160461426\n",
            "Train loss: 3.7372946739196777\n",
            "Train loss: 3.7889137268066406\n",
            "Train loss: 3.8127670288085938\n",
            "Train loss: 4.269323348999023\n",
            "Train loss: 4.251103401184082\n",
            "Train loss: 4.234582424163818\n",
            "Train loss: 3.908857583999634\n",
            "Train loss: 4.263221740722656\n",
            "Train loss: 3.7924718856811523\n",
            "Train loss: 4.226292133331299\n",
            "Train loss: 4.279157638549805\n",
            "Train loss: 4.160737037658691\n",
            "Train loss: 4.294155120849609\n",
            "Train loss: 3.6595606803894043\n",
            "Train loss: 4.043453216552734\n",
            "Train loss: 4.65448522567749\n",
            "Train loss: 4.013086795806885\n",
            "Train loss: 4.201465129852295\n",
            "Train loss: 4.049549579620361\n",
            "Train loss: 4.365474224090576\n",
            "Train loss: 4.13804817199707\n",
            "Train loss: 4.426684379577637\n",
            "Train loss: 4.195441722869873\n",
            "Train loss: 4.29130744934082\n",
            "Train loss: 3.9650988578796387\n",
            "Train loss: 3.8826286792755127\n",
            "Train loss: 4.593404769897461\n",
            "Train loss: 3.9985926151275635\n",
            "Train loss: 3.9096803665161133\n",
            "Train loss: 3.9602479934692383\n",
            "Train loss: 4.278172492980957\n",
            "Train loss: 4.306463241577148\n",
            "##################################################\n",
            "Epoch: 3\n",
            "Train loss: 4.353349685668945\n",
            "Train loss: 3.9349100589752197\n",
            "Train loss: 4.182241439819336\n",
            "Train loss: 4.084685325622559\n",
            "Train loss: 4.155001640319824\n",
            "Train loss: 4.305906772613525\n",
            "Train loss: 4.079864501953125\n",
            "Train loss: 4.031641006469727\n",
            "Train loss: 4.00062894821167\n",
            "Train loss: 4.253002643585205\n",
            "Train loss: 4.121984958648682\n",
            "Train loss: 4.290945529937744\n",
            "Train loss: 3.9652323722839355\n",
            "Train loss: 4.212035655975342\n",
            "Train loss: 3.8216018676757812\n",
            "Train loss: 4.149474143981934\n",
            "Train loss: 4.000937461853027\n",
            "Train loss: 4.093655109405518\n",
            "Train loss: 4.041196823120117\n",
            "Train loss: 4.201568126678467\n",
            "Train loss: 3.492485761642456\n",
            "Train loss: 4.1264262199401855\n",
            "Train loss: 4.417512893676758\n",
            "Train loss: 3.9015612602233887\n",
            "Train loss: 4.071377754211426\n",
            "Train loss: 3.902926445007324\n",
            "Train loss: 4.896103858947754\n",
            "Train loss: 4.563724994659424\n",
            "Train loss: 4.095605850219727\n",
            "Train loss: 3.999018907546997\n",
            "Train loss: 4.107044696807861\n",
            "Train loss: 4.067948341369629\n",
            "Train loss: 3.711827039718628\n",
            "Train loss: 3.7594897747039795\n",
            "Train loss: 3.7814674377441406\n",
            "Train loss: 4.238724708557129\n",
            "Train loss: 4.1915154457092285\n",
            "Train loss: 4.190051078796387\n",
            "Train loss: 3.8793017864227295\n",
            "Train loss: 4.233738422393799\n",
            "Train loss: 3.7634634971618652\n",
            "Train loss: 4.188077926635742\n",
            "Train loss: 4.218541622161865\n",
            "Train loss: 4.098378658294678\n",
            "Train loss: 4.183802604675293\n",
            "Train loss: 3.564631938934326\n",
            "Train loss: 3.9652769565582275\n",
            "Train loss: 4.613945960998535\n",
            "Train loss: 3.9873409271240234\n",
            "Train loss: 4.172153472900391\n",
            "Train loss: 4.023562431335449\n",
            "Train loss: 4.3173723220825195\n",
            "Train loss: 4.095083236694336\n",
            "Train loss: 4.3968505859375\n",
            "Train loss: 4.1631574630737305\n",
            "Train loss: 4.26469612121582\n",
            "Train loss: 3.9195809364318848\n",
            "Train loss: 3.8587701320648193\n"
          ],
          "name": "stdout"
        },
        {
          "output_type": "stream",
          "text": [
            "100%|██████████| 64/64 [00:00<00:00, 694.02it/s]\n",
            "100%|██████████| 64/64 [00:00<00:00, 804.66it/s]\n",
            "  0%|          | 0/64 [00:00<?, ?it/s]"
          ],
          "name": "stderr"
        },
        {
          "output_type": "stream",
          "text": [
            "Train loss: 4.56103515625\n",
            "Train loss: 3.963407278060913\n",
            "Train loss: 3.884793281555176\n",
            "Train loss: 3.928325653076172\n",
            "Train loss: 4.251493453979492\n",
            "Train loss: 4.263535499572754\n",
            "##################################################\n",
            "Epoch: 4\n",
            "Train loss: 4.3225555419921875\n",
            "Train loss: 3.8958168029785156\n",
            "Train loss: 4.1490960121154785\n",
            "Train loss: 4.037614822387695\n",
            "Train loss: 4.128446102142334\n",
            "Train loss: 4.281099319458008\n",
            "Train loss: 4.0456366539001465\n",
            "Train loss: 4.0063042640686035\n",
            "Train loss: 3.9700677394866943\n",
            "Train loss: 4.218389987945557\n",
            "Train loss: 4.09381628036499\n",
            "Train loss: 4.25820255279541\n",
            "Train loss: 3.9470126628875732\n",
            "Train loss: 4.185772895812988\n",
            "Train loss: 3.7977542877197266\n",
            "Train loss: 4.118760108947754\n",
            "Train loss: 3.9723691940307617\n",
            "Train loss: 4.063939571380615\n",
            "Train loss: 4.013425827026367\n",
            "Train loss: 4.1676249504089355\n",
            "Train loss: 3.3963818550109863\n",
            "Train loss: 4.048434257507324\n",
            "Train loss: 4.3782196044921875\n",
            "Train loss: 3.873351573944092\n",
            "Train loss: 4.033586502075195\n",
            "Train loss: 3.858743190765381\n",
            "Train loss: 4.846439838409424\n",
            "Train loss: 4.534879684448242\n",
            "Train loss: 4.059858322143555\n",
            "Train loss: 3.964238166809082\n",
            "Train loss: 4.073910236358643\n",
            "Train loss: 4.031114101409912\n",
            "Train loss: 3.6865603923797607\n",
            "Train loss: 3.7305469512939453\n",
            "Train loss: 3.7504303455352783\n",
            "Train loss: 4.208319664001465\n",
            "Train loss: 4.1334075927734375\n",
            "Train loss: 4.1467366218566895\n",
            "Train loss: 3.8503236770629883\n",
            "Train loss: 4.204519271850586\n",
            "Train loss: 3.734675645828247\n",
            "Train loss: 4.150312900543213\n",
            "Train loss: 4.159388542175293\n",
            "Train loss: 4.036510467529297\n",
            "Train loss: 4.075450420379639\n",
            "Train loss: 3.4717905521392822\n",
            "Train loss: 3.888822078704834\n",
            "Train loss: 4.573613166809082\n",
            "Train loss: 3.9617393016815186\n",
            "Train loss: 4.143192291259766\n",
            "Train loss: 3.997845411300659\n",
            "Train loss: 4.270005702972412\n",
            "Train loss: 4.052475452423096\n",
            "Train loss: 4.367551326751709\n",
            "Train loss: 4.131015777587891\n",
            "Train loss: 4.238165378570557\n",
            "Train loss: 3.8750498294830322\n",
            "Train loss: 3.8352136611938477\n",
            "Train loss: 4.528994560241699\n",
            "Train loss: 3.9284820556640625\n",
            "Train loss: 3.8600308895111084\n",
            "Train loss: 3.8968615531921387\n",
            "Train loss: 4.225347518920898\n",
            "Train loss: 4.220945358276367\n",
            "##################################################\n",
            "Epoch: 5\n",
            "Train loss: 4.292323112487793\n",
            "Train loss: 3.8569540977478027\n",
            "Train loss: 4.116140842437744\n",
            "Train loss: 3.9915385246276855\n",
            "Train loss: 4.102021217346191\n",
            "Train loss: 4.256531238555908\n",
            "Train loss: 4.011989593505859\n",
            "Train loss: 3.981097936630249\n",
            "Train loss: 3.939692497253418\n",
            "Train loss: 4.183984756469727\n",
            "Train loss: 4.065779685974121\n",
            "Train loss: 4.225671768188477\n",
            "Train loss: 3.9290502071380615\n",
            "Train loss: 4.159651756286621\n",
            "Train loss: 3.774056911468506\n",
            "Train loss: 4.0884199142456055\n",
            "Train loss: 3.9439826011657715\n",
            "Train loss: 4.03440523147583\n",
            "Train loss: 3.9859442710876465\n",
            "Train loss: 4.133851528167725\n",
            "Train loss: 3.3025033473968506\n",
            "Train loss: 3.972154140472412\n",
            "Train loss: 4.339141845703125\n",
            "Train loss: 3.8453290462493896\n",
            "Train loss: 3.9963252544403076\n",
            "Train loss: 3.8155457973480225\n",
            "Train loss: 4.7970170974731445\n",
            "Train loss: 4.506539344787598\n",
            "Train loss: 4.024652481079102\n",
            "Train loss: 3.9299466609954834\n",
            "Train loss: 4.041007041931152\n",
            "Train loss: 3.994569778442383\n",
            "Train loss: 3.6614959239959717\n",
            "Train loss: 3.7020835876464844\n",
            "Train loss: 3.7196598052978516\n",
            "Train loss: 4.178107261657715\n"
          ],
          "name": "stdout"
        },
        {
          "output_type": "stream",
          "text": [
            "\r100%|██████████| 64/64 [00:00<00:00, 762.38it/s]"
          ],
          "name": "stderr"
        },
        {
          "output_type": "stream",
          "text": [
            "Train loss: 4.076918601989746\n",
            "Train loss: 4.104693412780762\n",
            "Train loss: 3.821932792663574\n",
            "Train loss: 4.175565719604492\n",
            "Train loss: 3.706104278564453\n",
            "Train loss: 4.113001823425293\n",
            "Train loss: 4.1017889976501465\n",
            "Train loss: 3.975160837173462\n",
            "Train loss: 3.9692611694335938\n",
            "Train loss: 3.381242036819458\n",
            "Train loss: 3.8141989707946777\n",
            "Train loss: 4.533492088317871\n",
            "Train loss: 3.936282157897949\n",
            "Train loss: 4.114580154418945\n",
            "Train loss: 3.9723989963531494\n",
            "Train loss: 4.223391532897949\n",
            "Train loss: 4.010232925415039\n",
            "Train loss: 4.338778495788574\n",
            "Train loss: 4.099018096923828\n",
            "Train loss: 4.211714744567871\n",
            "Train loss: 3.8315045833587646\n",
            "Train loss: 3.8119611740112305\n",
            "Train loss: 4.497283458709717\n",
            "Train loss: 3.8938217163085938\n",
            "Train loss: 3.8353941440582275\n",
            "Train loss: 3.865853786468506\n",
            "Train loss: 4.199726104736328\n",
            "Train loss: 4.1787004470825195\n",
            "Finished.\n"
          ],
          "name": "stdout"
        },
        {
          "output_type": "stream",
          "text": [
            "\n"
          ],
          "name": "stderr"
        }
      ]
    },
    {
      "cell_type": "markdown",
      "metadata": {
        "id": "Pi0sbHV6dEOR"
      },
      "source": [
        "### **테스트**"
      ]
    },
    {
      "cell_type": "markdown",
      "metadata": {
        "id": "WGarLWxXeJvz"
      },
      "source": [
        "학습된 각 모델을 이용하여 test 단어들의 word embedding을 확인."
      ]
    },
    {
      "cell_type": "code",
      "metadata": {
        "id": "4A1wrl-L_RjF",
        "colab": {
          "base_uri": "https://localhost:8080/"
        },
        "outputId": "7b3a3686-6203-49c0-a5fb-e470cbd24e9b"
      },
      "source": [
        "for word in test_words:\r\n",
        "  input_id = torch.LongTensor([w2i[word]]).to(device)\r\n",
        "  emb = cbow.embedding(input_id)\r\n",
        "\r\n",
        "  print(f\"Word: {word}\")\r\n",
        "  print(emb.squeeze(0))"
      ],
      "execution_count": 20,
      "outputs": [
        {
          "output_type": "stream",
          "text": [
            "Word: 음식\n",
            "tensor([-0.4879, -0.4811,  0.8295, -0.0576, -2.7324,  0.8201, -0.7498, -0.0534,\n",
            "         1.7605,  1.0936,  0.5006,  1.9304, -1.8520, -0.7684,  0.0975, -0.4225,\n",
            "        -1.1209,  0.3386,  1.1958,  1.4164, -0.0192,  1.8523, -1.9027,  1.1389,\n",
            "        -1.3449,  0.8548, -1.1357,  0.9903, -1.8901,  0.8813, -0.2777,  1.1343,\n",
            "         0.3698,  0.9501,  0.4275, -0.1072,  0.4278, -2.1341,  0.0475,  2.6164,\n",
            "         0.5634, -1.8851,  0.2864,  1.1148,  0.5337, -1.5166,  1.7710,  0.8982,\n",
            "        -1.1035,  0.5978,  0.1972,  0.0300,  0.5883,  0.7569,  0.4732,  0.3068,\n",
            "        -0.6523,  0.2161,  0.0133,  1.4295,  0.3007, -0.9130,  0.1234, -1.1884,\n",
            "        -0.3102, -0.3408, -0.5070, -0.8260, -0.3256,  1.3012, -0.1230,  0.1782,\n",
            "        -0.1277, -0.6313,  1.2273, -0.6418, -0.6517,  1.0611,  0.6232, -0.8748,\n",
            "         0.4840,  1.7349,  1.0964, -0.4120, -0.8949,  0.4366, -1.3554,  0.4949,\n",
            "         0.1012,  0.5599,  1.0188,  0.7567,  1.3228,  1.5533,  0.3783,  0.1646,\n",
            "         1.9877,  0.0946, -0.0094,  0.3994, -0.4317, -1.5238, -0.0772,  0.4947,\n",
            "        -0.4963,  0.3726, -0.9880, -1.6884, -0.1135,  1.0853,  3.6622, -1.1316,\n",
            "         0.2309,  1.4236,  0.1837, -0.6780,  1.2499, -2.1422,  0.0748,  0.8035,\n",
            "        -1.4465, -0.0925,  1.0620,  0.5280,  0.6064, -0.5382, -0.0151, -1.3342,\n",
            "        -0.3325, -1.7394, -1.3767, -0.5213,  1.7694, -1.4266,  0.5921, -0.9380,\n",
            "         1.3793, -0.6434,  1.2127,  0.5455,  0.3194, -0.1957,  0.1829, -1.9860,\n",
            "         0.0708, -1.1280, -1.0747, -0.5175,  0.8657, -0.5870,  0.9492,  0.6040,\n",
            "         0.5924,  0.6950,  0.8136, -0.4485, -0.1124, -0.7839,  0.9070, -0.2518,\n",
            "         0.0448,  0.9035, -0.1430, -0.8459,  0.8014,  1.7299,  0.7922, -0.5474,\n",
            "         0.3145,  0.0550,  0.0737, -0.3573, -0.3934,  0.3304,  0.5662,  1.5428,\n",
            "         1.2648, -1.3549,  1.9575, -0.6894, -0.4112,  0.3546, -0.2018,  1.3083,\n",
            "         1.8829, -0.4999, -0.2750, -1.3039,  1.7671, -1.4661,  1.1587,  1.2192,\n",
            "        -1.0394,  0.4259,  1.1266, -0.1074,  0.4223,  0.4503,  0.3130, -0.2631,\n",
            "         0.7056,  1.6390,  2.0301, -0.4182,  1.3620,  0.1805,  1.7990,  0.3950,\n",
            "         0.6723, -0.0157, -1.7470,  1.1858, -0.6371, -0.8349, -0.5448, -1.0749,\n",
            "        -1.0649, -1.3605, -0.4291,  0.2104,  0.2923,  0.9459,  1.1978,  0.1206,\n",
            "        -0.3601, -0.1879, -0.1434,  0.0330,  1.2603,  1.1010, -0.4929,  1.1484,\n",
            "        -0.6751, -0.4678, -1.0180,  0.2841, -1.1106, -0.0667,  0.3974, -1.8146,\n",
            "        -0.3411, -0.2971, -0.8085,  0.8562,  0.6548,  1.1508,  0.8255,  0.6464,\n",
            "         0.8831, -1.2613, -0.0675, -0.1819,  0.5118, -0.0115, -1.2569,  0.3984],\n",
            "       device='cuda:0', grad_fn=<SqueezeBackward1>)\n",
            "Word: 맛\n",
            "tensor([ 0.2801,  0.5040, -0.1589,  0.4885, -0.6320, -0.2585, -0.4667,  0.5636,\n",
            "        -0.9286, -0.5644,  0.9709, -0.1171,  0.3267,  1.0348,  1.4921,  0.4004,\n",
            "        -0.2632, -1.4506,  0.0661, -1.2102,  0.5985,  0.3678, -1.3331, -0.4839,\n",
            "        -0.2032,  0.2437, -0.2784, -0.8628, -1.8230,  0.6997, -0.0779,  1.1307,\n",
            "         1.1911,  1.7129, -1.0887,  0.1855, -1.9283, -0.3168,  0.3082, -0.1256,\n",
            "         2.5062,  1.9251, -0.9685, -0.0706, -0.1538,  0.2626, -0.1162,  1.3737,\n",
            "         1.3321,  1.1982, -0.0710,  1.2262, -0.0747,  0.1651,  1.9541,  0.9360,\n",
            "        -0.3311, -0.4786, -0.3557, -0.1947, -0.4138, -2.6915,  0.3442,  0.2581,\n",
            "         2.8155,  0.1074, -0.4399, -1.5009, -0.9968, -0.6079, -0.4018,  2.0454,\n",
            "         0.5160, -2.0397, -0.9611,  0.6052, -1.9136, -0.9930,  0.6269,  0.4468,\n",
            "         0.9817, -1.0343,  0.1998,  1.0039,  0.8862, -0.8380,  0.3408,  1.1835,\n",
            "        -1.1505,  0.4222,  0.9369,  0.9948,  0.0827,  2.9125, -0.3044,  1.2398,\n",
            "        -0.6080, -0.7049, -0.6049,  1.0844,  1.7147, -0.1785, -0.5551,  0.3537,\n",
            "        -0.5749, -1.4539, -1.1167, -0.8491, -2.8335, -0.3661, -1.4016, -0.1603,\n",
            "         0.0626, -0.8009,  0.1564, -0.4891,  0.0971, -0.0188,  0.1157, -1.3451,\n",
            "         0.7557,  0.8918, -1.1778,  1.1234, -0.0637,  0.0387, -1.3397,  0.8651,\n",
            "         0.6385, -0.6006, -0.0248,  0.8339, -0.8419,  0.2173,  0.0666,  0.5821,\n",
            "        -0.6350, -0.1915, -0.2327, -1.4506, -0.1258,  0.7997,  0.4888, -0.2348,\n",
            "         2.4342, -1.4403,  1.3047,  0.3533,  0.9001, -0.1239, -0.7046, -0.1602,\n",
            "        -0.0322,  1.1562, -0.9436,  0.7090,  1.1699,  0.0298,  1.2997,  0.1393,\n",
            "        -1.9327, -0.9222,  0.5459, -0.6124, -1.2201,  0.8622,  0.5405, -0.8466,\n",
            "        -0.4948,  1.0594, -1.1920,  0.5983,  0.8573,  2.3578,  2.2144,  0.9297,\n",
            "         0.0596,  1.1499, -2.4287,  0.1633, -0.0365, -0.3114,  0.3102, -2.5003,\n",
            "        -1.0795, -0.5780,  1.5243,  0.2850,  0.1281, -0.7838, -1.3726,  0.3297,\n",
            "         0.4775,  0.0284, -0.6518, -0.4437,  0.0687, -1.2444,  0.1285,  1.8911,\n",
            "        -0.7868,  0.3326, -0.7158, -0.0606,  1.8328,  1.3601, -2.1257, -0.4103,\n",
            "         1.4927,  1.5005, -0.1838, -2.0617, -0.1707, -0.5050, -2.6216, -0.3666,\n",
            "        -0.5938,  0.3594,  1.1889,  1.5347,  0.8616,  0.6525, -0.8275,  0.3786,\n",
            "        -1.2439,  0.3880,  1.3627, -0.5565,  0.0499, -0.0999, -0.3692,  1.0600,\n",
            "         0.3932, -0.2593,  0.1800,  1.1869, -0.0945, -0.0565, -0.1396,  0.1066,\n",
            "        -0.3914, -0.6139,  0.7001, -0.0164,  1.3472, -1.0404,  0.2124,  0.7534,\n",
            "         0.4093, -1.5168,  1.0960,  0.8902,  0.8925,  0.7292,  2.9950,  0.5436],\n",
            "       device='cuda:0', grad_fn=<SqueezeBackward1>)\n",
            "Word: 서비스\n",
            "tensor([ 8.5711e-01, -2.8773e-01,  2.6049e-01, -3.6471e-02, -8.0279e-01,\n",
            "         1.1428e+00, -8.9532e-01, -4.9640e-01, -1.6249e+00, -1.5239e+00,\n",
            "        -4.5509e-01,  1.2637e+00,  8.5695e-02,  1.0671e+00,  1.0764e+00,\n",
            "        -1.2114e+00,  1.4142e+00,  1.5865e+00,  5.5548e-01,  9.2774e-01,\n",
            "        -5.6188e-01, -1.2265e+00, -4.5728e-01,  1.5984e-01, -7.6694e-01,\n",
            "         1.7365e+00,  7.1243e-01, -6.7963e-01,  1.8032e-01,  4.5688e-01,\n",
            "        -1.2571e+00, -4.3146e-01,  6.5371e-01,  1.2164e+00, -3.0350e-01,\n",
            "        -2.1989e-01, -5.9451e-02,  3.9940e-01, -1.2744e-01, -5.7868e-01,\n",
            "        -6.3257e-01, -2.4450e-01, -7.2110e-01,  8.7904e-01, -4.3815e-01,\n",
            "         8.1908e-02, -1.0124e+00, -3.9481e-01,  7.8784e-01, -3.2309e-01,\n",
            "        -1.3293e-01,  1.2823e-01, -1.0432e-01, -3.9802e-02, -2.4850e-01,\n",
            "         1.6234e+00,  8.9025e-01,  2.7436e-01, -1.7649e+00,  1.7427e-01,\n",
            "         7.7218e-01, -5.2580e-01,  9.0770e-01, -9.8574e-01, -4.4126e-01,\n",
            "         1.7099e+00,  1.3826e+00,  9.2140e-01,  5.0732e-01,  5.1253e-01,\n",
            "         6.7923e-01,  2.3834e+00,  4.0124e-01,  1.0740e+00,  3.3869e-01,\n",
            "         2.0255e-01, -4.4787e-01,  7.9636e-01, -9.0151e-02, -4.1596e-01,\n",
            "         2.2155e-01, -2.7164e-01, -4.7128e-01,  6.8527e-01, -8.2325e-02,\n",
            "        -1.4265e+00,  3.4624e-01, -1.8041e-01,  9.0185e-01,  1.1419e+00,\n",
            "         7.3990e-02, -8.7753e-01,  8.3268e-02, -1.2173e-01, -4.6420e-01,\n",
            "         5.3523e-01, -1.6531e+00,  1.6181e+00,  9.0994e-01, -3.7199e-01,\n",
            "        -6.1394e-01, -1.2113e+00, -1.4591e+00,  6.8845e-01, -1.2473e+00,\n",
            "        -1.9712e-01,  3.0240e-01, -1.5734e+00,  1.3406e+00,  2.3473e-01,\n",
            "        -1.0326e+00,  1.4881e+00,  8.0751e-02,  1.0684e+00,  2.1658e-01,\n",
            "         8.6026e-01, -1.6709e-01,  7.8933e-01, -1.3272e+00, -2.5291e-01,\n",
            "         9.2208e-01, -1.0555e+00,  1.1923e+00, -9.5223e-01,  9.9500e-01,\n",
            "        -1.4078e-01,  1.7867e+00, -1.5925e+00,  1.5284e+00, -5.5183e-01,\n",
            "         1.1092e+00, -2.6636e-01, -1.0115e+00,  9.8010e-01, -1.5469e+00,\n",
            "        -7.0660e-01,  3.7462e-01, -9.1023e-03,  1.0080e-01,  5.2847e-01,\n",
            "        -3.0800e-01,  6.4513e-01, -1.1159e+00, -1.1586e+00, -7.9101e-02,\n",
            "        -1.9337e+00,  2.3384e-01, -1.6001e+00, -2.5589e+00, -1.4138e+00,\n",
            "         4.2629e-01,  1.9378e+00,  1.0197e+00, -1.0928e+00,  8.9938e-01,\n",
            "        -2.1281e-01,  9.1892e-01,  2.1071e-01,  2.9235e-01,  7.8849e-01,\n",
            "        -1.1124e+00, -3.0526e-01,  8.9727e-01,  1.3263e+00,  1.9632e-01,\n",
            "         1.0719e+00,  1.1697e+00,  2.0887e+00, -1.7472e+00,  1.1852e-01,\n",
            "         1.5172e-01, -7.4770e-01,  6.2530e-01,  8.4731e-01,  5.8684e-01,\n",
            "        -1.6547e+00,  4.2240e-01,  9.7717e-01,  4.6044e-01,  1.7192e+00,\n",
            "         1.7336e+00,  5.8508e-01,  5.4792e-01, -1.6060e+00,  5.4345e-01,\n",
            "        -1.8306e-01,  2.5447e-01,  3.5358e-01, -4.4447e-01,  2.5121e-01,\n",
            "        -9.1604e-01, -8.2625e-01, -2.8186e-01,  4.5578e-01,  1.4686e+00,\n",
            "        -2.4288e-01, -1.1512e+00,  3.2766e-01,  3.0106e-01,  4.8592e-01,\n",
            "        -6.5543e-01,  1.4732e+00, -1.2122e+00, -8.7772e-02, -9.5428e-01,\n",
            "        -2.6011e-01, -1.9277e-02, -1.1228e-01, -2.4823e-01,  5.2565e-01,\n",
            "        -5.6249e-01,  4.7307e-01, -1.2408e-01, -5.3037e-03, -8.3661e-01,\n",
            "         4.5474e-01,  3.3353e-01,  1.5232e+00, -1.7994e+00, -2.2101e+00,\n",
            "        -9.0077e-01,  2.6825e-01,  4.2702e-01,  2.0794e+00, -6.4231e-01,\n",
            "        -1.7871e-01, -6.2346e-01,  2.7625e+00,  2.3737e-01,  1.3952e-01,\n",
            "        -6.9298e-01,  2.1943e+00,  3.7070e-01,  1.2742e+00, -9.4418e-02,\n",
            "        -1.3201e+00, -1.5477e+00,  1.0117e-01,  6.8098e-01,  1.7607e-01,\n",
            "        -1.0957e+00,  1.1953e+00, -8.8648e-01, -1.2755e+00, -6.4475e-01,\n",
            "         1.4809e+00, -7.0764e-04,  6.3629e-01, -1.7172e+00,  9.1846e-02,\n",
            "         7.5256e-01, -1.1708e+00, -4.9169e-01,  4.3875e-01, -6.9307e-01,\n",
            "         1.5446e-01], device='cuda:0', grad_fn=<SqueezeBackward1>)\n",
            "Word: 위생\n",
            "tensor([ 0.4018, -0.4023,  0.0674, -0.2368, -0.4429,  0.7371,  0.6712,  0.0761,\n",
            "        -1.4495, -0.4394, -0.7203,  0.2778,  1.0336,  0.3599, -0.3231,  0.1209,\n",
            "        -1.4867,  0.9805, -0.4917,  0.4997,  0.0806,  1.1449, -0.7227,  0.7917,\n",
            "         0.8426, -1.7262, -0.6731,  1.8146, -0.9738, -0.7358,  0.5891,  0.3477,\n",
            "         1.4414, -0.7181, -0.4069, -1.8073, -0.4806, -1.0548,  0.0820,  1.9635,\n",
            "        -0.8317,  0.5199,  0.1265,  0.0246,  0.2207, -0.6205,  0.9585, -0.0628,\n",
            "        -0.1511, -1.2208,  0.4931, -1.1973, -0.3979, -0.2708, -0.4144, -0.1133,\n",
            "        -0.0123,  1.5487, -0.7802,  0.1733, -0.1239, -0.7700,  2.3384, -0.3486,\n",
            "         0.6458, -0.1424,  2.0121,  0.1475, -0.3748,  0.1892, -0.3272,  1.0363,\n",
            "        -1.5765,  0.3903,  1.0889, -2.0211, -0.9650, -0.8337,  1.2504,  0.0097,\n",
            "         0.2641,  0.5046,  0.7358,  0.9603,  0.7139,  2.7166,  2.2614, -0.7262,\n",
            "         1.5156,  0.8992,  1.5008, -0.5734, -0.5670,  0.7697,  0.8857, -0.1243,\n",
            "         0.8231, -0.5909,  1.3013,  0.3458, -0.2187, -0.3896,  0.3784, -0.4694,\n",
            "        -0.6183, -1.1821, -0.5948,  0.2360, -1.0761,  0.8668, -0.2453, -1.5503,\n",
            "         1.4931,  0.3470, -0.2699,  0.4718, -0.6332,  1.5228, -0.0192,  0.2236,\n",
            "         0.3746, -0.3703,  0.2958, -0.5380,  0.3606, -0.1595,  1.2106,  2.0385,\n",
            "        -0.1450, -0.0541,  0.6312, -0.1056,  0.0308, -1.5668, -1.2116, -1.4513,\n",
            "        -1.1264,  0.8221,  0.1138, -0.9445, -0.8818, -0.5406, -0.8731,  0.1360,\n",
            "         0.6662,  0.4544, -1.9155, -0.3204,  0.8781,  1.6832,  1.5649,  0.4134,\n",
            "        -1.3378,  0.6763, -1.4979,  0.9229,  1.4234,  2.2713,  0.7056,  0.3825,\n",
            "        -0.6282,  0.8313, -0.9222, -0.3605,  0.6996, -0.3051, -0.9915,  0.2581,\n",
            "         0.0323,  0.5578, -1.3913, -0.2736, -0.2518, -1.1443,  0.5062, -0.0897,\n",
            "        -1.7911, -0.4821, -0.5791, -0.9852, -0.0207, -0.7902, -0.0433, -0.9680,\n",
            "         1.6370, -0.4558, -0.2423,  0.9323,  0.8860,  0.8738,  0.1326,  1.3996,\n",
            "         0.3913,  1.4995, -0.2099, -1.4549, -0.6450,  0.6841, -1.4318, -2.0393,\n",
            "        -0.2843,  0.1410, -1.1978, -0.0420,  0.8652, -1.9819, -1.7038, -0.4047,\n",
            "        -2.0480, -0.2117,  0.5138,  0.1743, -0.4265,  1.8892,  0.2257,  0.1017,\n",
            "         0.2165, -1.9075,  1.8346,  1.0515,  1.2716, -0.7715, -1.9570, -0.2772,\n",
            "         0.1361, -0.9497,  0.3968, -0.8864, -0.4201, -0.6871, -1.9378, -0.7111,\n",
            "        -0.2714,  1.2885,  0.8376, -1.4606, -1.4599,  0.9531, -1.0634,  1.0216,\n",
            "        -2.3215,  0.0218,  0.3510,  0.1155, -1.5367, -0.6764,  0.0468, -0.0512,\n",
            "         0.3029, -0.3489,  0.0090, -0.2887, -0.2353, -0.4205, -0.9600, -1.3331],\n",
            "       device='cuda:0', grad_fn=<SqueezeBackward1>)\n",
            "Word: 가격\n",
            "tensor([-0.6897, -0.7931, -0.6428, -0.5686, -0.3783, -0.8280, -1.2611, -2.2827,\n",
            "         1.1306,  0.2781, -0.8201,  0.4806, -0.2492,  1.3143,  0.3428,  0.4508,\n",
            "         1.3498,  0.4688, -2.2745,  1.6918, -1.0604,  0.4662, -1.7260, -1.8406,\n",
            "        -2.2214, -0.8335, -0.5937,  0.3976,  0.8374, -1.1056, -1.1903, -1.7960,\n",
            "        -0.5119,  0.0916,  0.8789,  1.1029,  0.9340,  0.5511,  1.3544, -1.6950,\n",
            "        -0.7240, -0.5747, -1.5506,  0.6855, -0.0948, -0.3249, -1.8469, -0.4763,\n",
            "         0.3450, -0.2456, -0.5254,  2.2770,  0.4717, -1.0779,  0.0738,  0.7006,\n",
            "         0.5151, -1.1485, -1.8838,  0.2281,  1.6722, -0.0547, -0.9907,  0.8396,\n",
            "         0.1176,  1.6714, -2.3413, -1.5029,  0.4645, -0.2329, -0.5745, -0.2382,\n",
            "        -0.0875, -0.6942,  1.7610,  0.3435,  0.6518, -0.9586,  0.3721, -0.5932,\n",
            "        -0.2768, -1.3263, -2.1900,  1.1238,  0.0164,  1.0145, -1.2505, -0.3140,\n",
            "        -0.0042,  1.2579,  1.5041,  0.7054, -0.0626, -0.2437,  1.4090,  0.8729,\n",
            "         0.5260, -0.2109, -0.0862,  1.5029, -0.0270, -0.7881, -1.3442,  0.1098,\n",
            "         1.8449,  1.4033,  0.2855, -1.1047,  0.4794, -0.4273,  3.1137,  0.7116,\n",
            "        -0.8134, -0.1513,  0.9918,  1.3920,  2.0179, -0.0122, -0.4803,  0.6778,\n",
            "        -0.3191,  0.1820,  0.6231,  0.4336,  1.2395, -0.1455,  0.4661, -0.0647,\n",
            "         0.2393,  0.5919, -1.2256, -0.1158,  0.0702,  1.1309,  1.1441, -0.0570,\n",
            "        -0.7787, -1.1240,  0.8456,  1.3518, -0.0952, -1.9644, -0.4393, -0.3421,\n",
            "         1.1240,  0.4322, -0.4073,  3.1379,  1.4469, -0.7916,  0.8778, -0.1138,\n",
            "         0.2581, -0.3418,  0.5012, -0.9037,  0.2996, -0.3685, -0.0474, -0.3844,\n",
            "        -0.8478, -1.3652, -2.6002,  0.5509,  0.0594, -0.0481,  1.0526, -0.3625,\n",
            "        -1.3582, -1.2689, -2.2198, -0.2786,  2.2122, -0.6379, -0.7234,  2.5536,\n",
            "         1.2864,  2.5511,  1.0563, -0.1709,  0.0188,  0.6923,  0.8429,  1.4778,\n",
            "         1.5377, -1.2132,  0.6389, -0.2723, -0.3379, -1.1847, -0.4897,  0.4642,\n",
            "         1.6423,  0.2993, -0.1467, -2.0439,  0.5074, -1.0531, -0.8812,  0.6894,\n",
            "        -1.5867, -1.0550,  0.8182, -0.5960,  0.2457,  0.2403,  1.2720, -0.7536,\n",
            "         0.8506,  0.7214, -1.4232,  0.7928,  0.0866,  1.1883, -0.6905,  0.8403,\n",
            "        -0.0099, -0.3237, -0.7667, -2.2000,  0.6748,  0.8798,  0.0740,  2.7223,\n",
            "         1.5184,  0.5017,  1.3454,  0.7751,  0.7729,  0.9123,  2.3617,  1.9720,\n",
            "         0.2227,  0.5547, -0.5041,  0.9016,  1.9263, -1.3912,  0.3185,  0.5324,\n",
            "        -2.8729, -1.6130,  0.3743,  0.1617, -1.5359, -1.6478, -1.4209,  1.0750,\n",
            "        -1.9105,  0.7078, -0.3708,  2.3639, -2.0510, -0.0279, -0.3475,  1.5224],\n",
            "       device='cuda:0', grad_fn=<SqueezeBackward1>)\n"
          ],
          "name": "stdout"
        }
      ]
    },
    {
      "cell_type": "code",
      "metadata": {
        "id": "_l5cPRZZe-R4",
        "colab": {
          "base_uri": "https://localhost:8080/"
        },
        "outputId": "ec334a41-4590-4351-b790-92cf10cba051"
      },
      "source": [
        "for word in test_words:\r\n",
        "  input_id = torch.LongTensor([w2i[word]]).to(device)\r\n",
        "  emb = skipgram.embedding(input_id)\r\n",
        "\r\n",
        "  print(f\"Word: {word}\")\r\n",
        "  print(max(emb.squeeze(0)))"
      ],
      "execution_count": 21,
      "outputs": [
        {
          "output_type": "stream",
          "text": [
            "Word: 음식\n",
            "tensor(3.5106, device='cuda:0', grad_fn=<UnbindBackward>)\n",
            "Word: 맛\n",
            "tensor(2.7780, device='cuda:0', grad_fn=<UnbindBackward>)\n",
            "Word: 서비스\n",
            "tensor(3.4424, device='cuda:0', grad_fn=<UnbindBackward>)\n",
            "Word: 위생\n",
            "tensor(2.7496, device='cuda:0', grad_fn=<UnbindBackward>)\n",
            "Word: 가격\n",
            "tensor(2.7950, device='cuda:0', grad_fn=<UnbindBackward>)\n"
          ],
          "name": "stdout"
        }
      ]
    }
  ]
}
