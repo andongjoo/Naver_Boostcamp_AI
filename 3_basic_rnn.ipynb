{
  "nbformat": 4,
  "nbformat_minor": 0,
  "metadata": {
    "colab": {
      "name": "3_basic_rnn.ipynb",
      "provenance": [],
      "collapsed_sections": [],
      "mount_file_id": "1RY5FjajkvZA4h15Zsa9-cq0gl7kkEvro",
      "authorship_tag": "ABX9TyPracCIUveSWerqjEtz3R88"
    },
    "kernelspec": {
      "name": "python3",
      "display_name": "Python 3"
    },
    "accelerator": "GPU"
  },
  "cells": [
    {
      "cell_type": "code",
      "metadata": {
        "id": "ysOPEHJlLS5v"
      },
      "source": [
        "from tqdm import tqdm\r\n",
        "from torch import nn\r\n",
        "from torch.nn.utils.rnn import pack_padded_sequence, pad_packed_sequence\r\n",
        "\r\n",
        "import torch"
      ],
      "execution_count": 1,
      "outputs": []
    },
    {
      "cell_type": "code",
      "metadata": {
        "id": "J8AW2hXfLqdf"
      },
      "source": [
        "vocab_size = 100\r\n",
        "pad_id = 0\r\n",
        "\r\n",
        "data = [\r\n",
        "  [85,14,80,34,99,20,31,65,53,86,3,58,30,4,11,6,50,71,74,13],\r\n",
        "  [62,76,79,66,32],\r\n",
        "  [93,77,16,67,46,74,24,70],\r\n",
        "  [19,83,88,22,57,40,75,82,4,46],\r\n",
        "  [70,28,30,24,76,84,92,76,77,51,7,20,82,94,57],\r\n",
        "  [58,13,40,61,88,18,92,89,8,14,61,67,49,59,45,12,47,5],\r\n",
        "  [22,5,21,84,39,6,9,84,36,59,32,30,69,70,82,56,1],\r\n",
        "  [94,21,79,24,3,86],\r\n",
        "  [80,80,33,63,34,63],\r\n",
        "  [87,32,79,65,2,96,43,80,85,20,41,52,95,50,35,96,24,80]\r\n",
        "]"
      ],
      "execution_count": 2,
      "outputs": []
    },
    {
      "cell_type": "code",
      "metadata": {
        "colab": {
          "base_uri": "https://localhost:8080/"
        },
        "id": "mu_X62vSLrBF",
        "outputId": "af2072ba-76ed-4a48-8048-d84c6b27215f"
      },
      "source": [
        "max_len = len(max(data,key=len))\r\n",
        "print(f\"Maximum sequence length : {max_len}\")"
      ],
      "execution_count": 5,
      "outputs": [
        {
          "output_type": "stream",
          "text": [
            "Maximum sequence length : 20\n"
          ],
          "name": "stdout"
        }
      ]
    },
    {
      "cell_type": "code",
      "metadata": {
        "colab": {
          "base_uri": "https://localhost:8080/"
        },
        "id": "7xxqb6f1MDXI",
        "outputId": "cff94ccd-1e45-4539-fa9b-a890b35cb63b"
      },
      "source": [
        "valid_lens = []\r\n",
        "for i, seq in enumerate(tqdm(data)):\r\n",
        "  valid_lens.append(len(seq))\r\n",
        "  if len(seq) < max_len:\r\n",
        "    data[i] = seq + [pad_id] * (max_len - len(seq))"
      ],
      "execution_count": 7,
      "outputs": [
        {
          "output_type": "stream",
          "text": [
            "100%|██████████| 10/10 [00:00<00:00, 18485.25it/s]\n"
          ],
          "name": "stderr"
        }
      ]
    },
    {
      "cell_type": "code",
      "metadata": {
        "colab": {
          "base_uri": "https://localhost:8080/"
        },
        "id": "xXPVZiVwMDee",
        "outputId": "651f8e04-e98e-4185-9b41-d49bb3e65898"
      },
      "source": [
        "data"
      ],
      "execution_count": 9,
      "outputs": [
        {
          "output_type": "execute_result",
          "data": {
            "text/plain": [
              "[[85, 14, 80, 34, 99, 20, 31, 65, 53, 86, 3, 58, 30, 4, 11, 6, 50, 71, 74, 13],\n",
              " [62, 76, 79, 66, 32, 0, 0, 0, 0, 0, 0, 0, 0, 0, 0, 0, 0, 0, 0, 0],\n",
              " [93, 77, 16, 67, 46, 74, 24, 70, 0, 0, 0, 0, 0, 0, 0, 0, 0, 0, 0, 0],\n",
              " [19, 83, 88, 22, 57, 40, 75, 82, 4, 46, 0, 0, 0, 0, 0, 0, 0, 0, 0, 0],\n",
              " [70, 28, 30, 24, 76, 84, 92, 76, 77, 51, 7, 20, 82, 94, 57, 0, 0, 0, 0, 0],\n",
              " [58, 13, 40, 61, 88, 18, 92, 89, 8, 14, 61, 67, 49, 59, 45, 12, 47, 5, 0, 0],\n",
              " [22, 5, 21, 84, 39, 6, 9, 84, 36, 59, 32, 30, 69, 70, 82, 56, 1, 0, 0, 0],\n",
              " [94, 21, 79, 24, 3, 86, 0, 0, 0, 0, 0, 0, 0, 0, 0, 0, 0, 0, 0, 0],\n",
              " [80, 80, 33, 63, 34, 63, 0, 0, 0, 0, 0, 0, 0, 0, 0, 0, 0, 0, 0, 0],\n",
              " [87, 32, 79, 65, 2, 96, 43, 80, 85, 20, 41, 52, 95, 50, 35, 96, 24, 80, 0, 0]]"
            ]
          },
          "metadata": {
            "tags": []
          },
          "execution_count": 9
        }
      ]
    },
    {
      "cell_type": "code",
      "metadata": {
        "colab": {
          "base_uri": "https://localhost:8080/"
        },
        "id": "Xk-2jInqLrEd",
        "outputId": "c0a8d6cd-483f-4a02-b90e-a6c7f5ea958a"
      },
      "source": [
        "valid_lens"
      ],
      "execution_count": 10,
      "outputs": [
        {
          "output_type": "execute_result",
          "data": {
            "text/plain": [
              "[20, 5, 8, 10, 15, 18, 17, 6, 6, 18]"
            ]
          },
          "metadata": {
            "tags": []
          },
          "execution_count": 10
        }
      ]
    },
    {
      "cell_type": "code",
      "metadata": {
        "id": "fcLgCmOsLrHj"
      },
      "source": [
        ""
      ],
      "execution_count": null,
      "outputs": []
    },
    {
      "cell_type": "code",
      "metadata": {
        "id": "9oVXc4dgLrKT"
      },
      "source": [
        "# B : batch_size  L : maximum sequence length\r\n",
        "batch = torch.LongTensor(data) #(B, L)\r\n",
        "batch_lens = torch.LongTensor(valid_lens) # (B)\r\n"
      ],
      "execution_count": 15,
      "outputs": []
    },
    {
      "cell_type": "code",
      "metadata": {
        "colab": {
          "base_uri": "https://localhost:8080/"
        },
        "id": "389a7emQNv5A",
        "outputId": "ed95fa79-5ca4-4fca-b7e5-01a5ab25ef5f"
      },
      "source": [
        "batch"
      ],
      "execution_count": 14,
      "outputs": [
        {
          "output_type": "execute_result",
          "data": {
            "text/plain": [
              "tensor([[85, 14, 80, 34, 99, 20, 31, 65, 53, 86,  3, 58, 30,  4, 11,  6, 50, 71,\n",
              "         74, 13],\n",
              "        [62, 76, 79, 66, 32,  0,  0,  0,  0,  0,  0,  0,  0,  0,  0,  0,  0,  0,\n",
              "          0,  0],\n",
              "        [93, 77, 16, 67, 46, 74, 24, 70,  0,  0,  0,  0,  0,  0,  0,  0,  0,  0,\n",
              "          0,  0],\n",
              "        [19, 83, 88, 22, 57, 40, 75, 82,  4, 46,  0,  0,  0,  0,  0,  0,  0,  0,\n",
              "          0,  0],\n",
              "        [70, 28, 30, 24, 76, 84, 92, 76, 77, 51,  7, 20, 82, 94, 57,  0,  0,  0,\n",
              "          0,  0],\n",
              "        [58, 13, 40, 61, 88, 18, 92, 89,  8, 14, 61, 67, 49, 59, 45, 12, 47,  5,\n",
              "          0,  0],\n",
              "        [22,  5, 21, 84, 39,  6,  9, 84, 36, 59, 32, 30, 69, 70, 82, 56,  1,  0,\n",
              "          0,  0],\n",
              "        [94, 21, 79, 24,  3, 86,  0,  0,  0,  0,  0,  0,  0,  0,  0,  0,  0,  0,\n",
              "          0,  0],\n",
              "        [80, 80, 33, 63, 34, 63,  0,  0,  0,  0,  0,  0,  0,  0,  0,  0,  0,  0,\n",
              "          0,  0],\n",
              "        [87, 32, 79, 65,  2, 96, 43, 80, 85, 20, 41, 52, 95, 50, 35, 96, 24, 80,\n",
              "          0,  0]])"
            ]
          },
          "metadata": {
            "tags": []
          },
          "execution_count": 14
        }
      ]
    },
    {
      "cell_type": "code",
      "metadata": {
        "colab": {
          "base_uri": "https://localhost:8080/"
        },
        "id": "nN9-C9-HLrPv",
        "outputId": "bd501f79-260f-4ff2-8869-5cc07a799e53"
      },
      "source": [
        "batch_lens"
      ],
      "execution_count": 16,
      "outputs": [
        {
          "output_type": "execute_result",
          "data": {
            "text/plain": [
              "tensor([20,  5,  8, 10, 15, 18, 17,  6,  6, 18])"
            ]
          },
          "metadata": {
            "tags": []
          },
          "execution_count": 16
        }
      ]
    },
    {
      "cell_type": "code",
      "metadata": {
        "id": "gW81pao2LrSe"
      },
      "source": [
        ""
      ],
      "execution_count": null,
      "outputs": []
    },
    {
      "cell_type": "code",
      "metadata": {
        "id": "w3SRh7WYLrVP"
      },
      "source": [
        ""
      ],
      "execution_count": null,
      "outputs": []
    },
    {
      "cell_type": "code",
      "metadata": {
        "id": "aJsjQi9ULrYs"
      },
      "source": [
        ""
      ],
      "execution_count": null,
      "outputs": []
    },
    {
      "cell_type": "markdown",
      "metadata": {
        "id": "Ly3T_PqeN2Yw"
      },
      "source": [
        "RNN에 넣기 전 word embedding을 위한 embedding layer를 만든다"
      ]
    },
    {
      "cell_type": "code",
      "metadata": {
        "id": "L5ZYC6L6Lrbr"
      },
      "source": [
        "embedding_size = 256\r\n",
        "embedding = nn.Embedding(vocab_size,embedding_size)\r\n",
        "\r\n",
        "# d_w : embedding size\r\n",
        "batch_emb = embedding(batch) # (B, L, d_w)"
      ],
      "execution_count": 17,
      "outputs": []
    },
    {
      "cell_type": "code",
      "metadata": {
        "id": "M1DJ3MkvOPR2"
      },
      "source": [
        "hidden_size = 512\r\n",
        "num_layers = 1\r\n",
        "num_dirs = 1\r\n",
        "\r\n",
        "rnn = nn.RNN(\r\n",
        "    input_size = embedding_size,\r\n",
        "    hidden_size = hidden_size,\r\n",
        "    num_layers = num_layers,\r\n",
        "    bidirectional  = True if num_dirs >1 else False\r\n",
        ")\r\n",
        "\r\n",
        "h_0 = torch.zeros((num_layers * num_dirs, batch.shape[0],hidden_size))"
      ],
      "execution_count": 19,
      "outputs": []
    },
    {
      "cell_type": "code",
      "metadata": {
        "id": "dHbByhtVPxeM"
      },
      "source": [
        ""
      ],
      "execution_count": null,
      "outputs": []
    },
    {
      "cell_type": "markdown",
      "metadata": {
        "id": "hlATvr7JPxwu"
      },
      "source": [
        "\r\n",
        "*   `hidden_states`: 각 time step에 해당하는 hidden state들의 묶음.\r\n",
        "*   `h_n`: 모든 sequence를 거치고 나온 마지막 hidden state."
      ]
    },
    {
      "cell_type": "code",
      "metadata": {
        "colab": {
          "base_uri": "https://localhost:8080/"
        },
        "id": "68pOBmQfN81V",
        "outputId": "c4597dc3-9000-4443-ee37-802e6275681b"
      },
      "source": [
        "hidden_states, h_n = rnn(batch_emb.transpose(0, 1), h_0)\r\n",
        "\r\n",
        "# d_h: hidden size, num_layers: layer 개수, num_dirs: 방향의 개수\r\n",
        "print(hidden_states.shape)  # (L, B, d_h)\r\n",
        "print(h_n.shape)  # (num_layers*num_dirs, B, d_h) = (1, B, d_h)"
      ],
      "execution_count": 23,
      "outputs": [
        {
          "output_type": "stream",
          "text": [
            "torch.Size([20, 10, 512])\n",
            "torch.Size([1, 10, 512])\n"
          ],
          "name": "stdout"
        }
      ]
    },
    {
      "cell_type": "code",
      "metadata": {
        "colab": {
          "base_uri": "https://localhost:8080/"
        },
        "id": "LpyXJ_zQN9NQ",
        "outputId": "db6fb4f9-0c1f-4962-950d-5275791f5479"
      },
      "source": [
        "num_classes = 2\r\n",
        "classification_layer = nn.Linear(hidden_size, num_classes)\r\n",
        "\r\n",
        "# C: number of classes\r\n",
        "output = classification_layer(h_n.squeeze(0))  # (1, B, d_h) => (B, C)\r\n",
        "print(output.shape)"
      ],
      "execution_count": 24,
      "outputs": [
        {
          "output_type": "stream",
          "text": [
            "torch.Size([10, 2])\n"
          ],
          "name": "stdout"
        }
      ]
    },
    {
      "cell_type": "code",
      "metadata": {
        "colab": {
          "base_uri": "https://localhost:8080/"
        },
        "id": "j-d8PnffN9R_",
        "outputId": "580404eb-d6f2-4662-8e5e-d26cc8f65d58"
      },
      "source": [
        " num_classes = 5\r\n",
        "entity_layer = nn.Linear(hidden_size, num_classes)\r\n",
        "\r\n",
        "# C: number of classes\r\n",
        "output = entity_layer(hidden_states)  # (L, B, d_h) => (L, B, C)\r\n",
        "print(output.shape)"
      ],
      "execution_count": 25,
      "outputs": [
        {
          "output_type": "stream",
          "text": [
            "torch.Size([20, 10, 5])\n"
          ],
          "name": "stdout"
        }
      ]
    },
    {
      "cell_type": "code",
      "metadata": {
        "id": "NiEMVkQhN9VC"
      },
      "source": [
        ""
      ],
      "execution_count": null,
      "outputs": []
    },
    {
      "cell_type": "code",
      "metadata": {
        "id": "4ss4oGjHN9X6"
      },
      "source": [
        ""
      ],
      "execution_count": null,
      "outputs": []
    },
    {
      "cell_type": "code",
      "metadata": {
        "colab": {
          "base_uri": "https://localhost:8080/"
        },
        "id": "71-RMU6uN9aj",
        "outputId": "ab70b766-4122-4bd4-db51-7d2fd53d0948"
      },
      "source": [
        "data"
      ],
      "execution_count": 26,
      "outputs": [
        {
          "output_type": "execute_result",
          "data": {
            "text/plain": [
              "[[85, 14, 80, 34, 99, 20, 31, 65, 53, 86, 3, 58, 30, 4, 11, 6, 50, 71, 74, 13],\n",
              " [62, 76, 79, 66, 32, 0, 0, 0, 0, 0, 0, 0, 0, 0, 0, 0, 0, 0, 0, 0],\n",
              " [93, 77, 16, 67, 46, 74, 24, 70, 0, 0, 0, 0, 0, 0, 0, 0, 0, 0, 0, 0],\n",
              " [19, 83, 88, 22, 57, 40, 75, 82, 4, 46, 0, 0, 0, 0, 0, 0, 0, 0, 0, 0],\n",
              " [70, 28, 30, 24, 76, 84, 92, 76, 77, 51, 7, 20, 82, 94, 57, 0, 0, 0, 0, 0],\n",
              " [58, 13, 40, 61, 88, 18, 92, 89, 8, 14, 61, 67, 49, 59, 45, 12, 47, 5, 0, 0],\n",
              " [22, 5, 21, 84, 39, 6, 9, 84, 36, 59, 32, 30, 69, 70, 82, 56, 1, 0, 0, 0],\n",
              " [94, 21, 79, 24, 3, 86, 0, 0, 0, 0, 0, 0, 0, 0, 0, 0, 0, 0, 0, 0],\n",
              " [80, 80, 33, 63, 34, 63, 0, 0, 0, 0, 0, 0, 0, 0, 0, 0, 0, 0, 0, 0],\n",
              " [87, 32, 79, 65, 2, 96, 43, 80, 85, 20, 41, 52, 95, 50, 35, 96, 24, 80, 0, 0]]"
            ]
          },
          "metadata": {
            "tags": []
          },
          "execution_count": 26
        }
      ]
    },
    {
      "cell_type": "code",
      "metadata": {
        "colab": {
          "base_uri": "https://localhost:8080/"
        },
        "id": "HJCMSgCUR1QD",
        "outputId": "625f00f7-4525-4963-b38e-4b434cd7b08c"
      },
      "source": [
        "sorted_lens, sorted_idx = batch_lens.sort(descending=True)\r\n",
        "sorted_batch = batch[sorted_idx]\r\n",
        "\r\n",
        "print(sorted_batch)\r\n",
        "print(sorted_lens)"
      ],
      "execution_count": 27,
      "outputs": [
        {
          "output_type": "stream",
          "text": [
            "tensor([[85, 14, 80, 34, 99, 20, 31, 65, 53, 86,  3, 58, 30,  4, 11,  6, 50, 71,\n",
            "         74, 13],\n",
            "        [58, 13, 40, 61, 88, 18, 92, 89,  8, 14, 61, 67, 49, 59, 45, 12, 47,  5,\n",
            "          0,  0],\n",
            "        [87, 32, 79, 65,  2, 96, 43, 80, 85, 20, 41, 52, 95, 50, 35, 96, 24, 80,\n",
            "          0,  0],\n",
            "        [22,  5, 21, 84, 39,  6,  9, 84, 36, 59, 32, 30, 69, 70, 82, 56,  1,  0,\n",
            "          0,  0],\n",
            "        [70, 28, 30, 24, 76, 84, 92, 76, 77, 51,  7, 20, 82, 94, 57,  0,  0,  0,\n",
            "          0,  0],\n",
            "        [19, 83, 88, 22, 57, 40, 75, 82,  4, 46,  0,  0,  0,  0,  0,  0,  0,  0,\n",
            "          0,  0],\n",
            "        [93, 77, 16, 67, 46, 74, 24, 70,  0,  0,  0,  0,  0,  0,  0,  0,  0,  0,\n",
            "          0,  0],\n",
            "        [94, 21, 79, 24,  3, 86,  0,  0,  0,  0,  0,  0,  0,  0,  0,  0,  0,  0,\n",
            "          0,  0],\n",
            "        [80, 80, 33, 63, 34, 63,  0,  0,  0,  0,  0,  0,  0,  0,  0,  0,  0,  0,\n",
            "          0,  0],\n",
            "        [62, 76, 79, 66, 32,  0,  0,  0,  0,  0,  0,  0,  0,  0,  0,  0,  0,  0,\n",
            "          0,  0]])\n",
            "tensor([20, 18, 18, 17, 15, 10,  8,  6,  6,  5])\n"
          ],
          "name": "stdout"
        }
      ]
    },
    {
      "cell_type": "code",
      "metadata": {
        "colab": {
          "base_uri": "https://localhost:8080/"
        },
        "id": "53S-SAbsN9dR",
        "outputId": "6ebdccfa-01fc-4a9b-f9e8-ba3a70517eea"
      },
      "source": [
        "sorted_batch_emb = embedding(sorted_batch)\r\n",
        "packed_batch = pack_padded_sequence(sorted_batch_emb.transpose(0, 1), sorted_lens)\r\n",
        "\r\n",
        "print(packed_batch)\r\n",
        "print(packed_batch[0].shape)"
      ],
      "execution_count": 28,
      "outputs": [
        {
          "output_type": "stream",
          "text": [
            "PackedSequence(data=tensor([[-0.6625, -0.2787,  0.2607,  ...,  0.7797, -0.2565,  0.7024],\n",
            "        [ 0.5871,  0.8446, -0.4057,  ..., -0.6412,  0.5224, -0.9187],\n",
            "        [ 0.6526, -0.5266, -1.9737,  ..., -1.4844,  1.2007,  0.7810],\n",
            "        ...,\n",
            "        [-1.0136, -0.2120,  0.2150,  ..., -0.6880, -3.0010,  0.7513],\n",
            "        [-2.1595, -0.3823, -0.5151,  ...,  1.1990, -0.0622,  0.8421],\n",
            "        [ 0.3502,  0.4009,  0.8792,  ..., -0.9092, -0.2903,  0.6312]],\n",
            "       grad_fn=<PackPaddedSequenceBackward>), batch_sizes=tensor([10, 10, 10, 10, 10,  9,  7,  7,  6,  6,  5,  5,  5,  5,  5,  4,  4,  3,\n",
            "         1,  1]), sorted_indices=None, unsorted_indices=None)\n",
            "torch.Size([123, 256])\n"
          ],
          "name": "stdout"
        }
      ]
    },
    {
      "cell_type": "code",
      "metadata": {
        "colab": {
          "base_uri": "https://localhost:8080/"
        },
        "id": "UQDVEtgNN9gB",
        "outputId": "613f6224-638e-40b2-e412-183b07866726"
      },
      "source": [
        "packed_outputs, h_n = rnn(packed_batch, h_0)\r\n",
        "\r\n",
        "print(packed_outputs)\r\n",
        "print(packed_outputs[0].shape)\r\n",
        "print(h_n.shape)"
      ],
      "execution_count": 30,
      "outputs": [
        {
          "output_type": "stream",
          "text": [
            "PackedSequence(data=tensor([[-0.3896,  0.3685, -0.4748,  ..., -0.6404,  0.2138, -0.3715],\n",
            "        [-0.1899,  0.2635,  0.3562,  ..., -0.0349,  0.5741, -0.3513],\n",
            "        [ 0.1962,  0.3771, -0.3780,  ..., -0.4437, -0.2091, -0.2174],\n",
            "        ...,\n",
            "        [-0.8831,  0.3699,  0.0509,  ..., -0.4661, -0.2341,  0.0285],\n",
            "        [-0.0951, -0.0204, -0.4091,  ...,  0.0124,  0.0425, -0.0286],\n",
            "        [ 0.3970, -0.4300,  0.4381,  ..., -0.3346,  0.1754,  0.3422]],\n",
            "       grad_fn=<CatBackward>), batch_sizes=tensor([10, 10, 10, 10, 10,  9,  7,  7,  6,  6,  5,  5,  5,  5,  5,  4,  4,  3,\n",
            "         1,  1]), sorted_indices=None, unsorted_indices=None)\n",
            "torch.Size([123, 512])\n",
            "torch.Size([1, 10, 512])\n"
          ],
          "name": "stdout"
        }
      ]
    },
    {
      "cell_type": "code",
      "metadata": {
        "id": "AVw6nY-7TXlp"
      },
      "source": [
        ""
      ],
      "execution_count": null,
      "outputs": []
    },
    {
      "cell_type": "markdown",
      "metadata": {
        "id": "nuGN8B9aTX-W"
      },
      "source": [
        "`packed_output`은 PackedSquence이므로 원래 output 형태와 다르다.  \r\n",
        "이를 다시 원래 형태로 바꿔주기 위해 `pad_packed_sequence`를 이용."
      ]
    },
    {
      "cell_type": "code",
      "metadata": {
        "colab": {
          "base_uri": "https://localhost:8080/"
        },
        "id": "cqx8f2WBN9pC",
        "outputId": "39b119bb-e0c3-4bfe-f302-26fcc56a62d8"
      },
      "source": [
        "outputs, outputs_lens = pad_packed_sequence(packed_outputs)\r\n",
        "\r\n",
        "print(outputs.shape)  # (L, B, d_h)\r\n",
        "print(outputs_lens)"
      ],
      "execution_count": 31,
      "outputs": [
        {
          "output_type": "stream",
          "text": [
            "torch.Size([20, 10, 512])\n",
            "tensor([20, 18, 18, 17, 15, 10,  8,  6,  6,  5])\n"
          ],
          "name": "stdout"
        }
      ]
    }
  ]
}